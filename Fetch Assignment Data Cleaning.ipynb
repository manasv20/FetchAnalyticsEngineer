{
 "cells": [
  {
   "cell_type": "code",
   "execution_count": 1,
   "id": "6bd66b92",
   "metadata": {},
   "outputs": [],
   "source": [
    "import pandas as pd\n",
    "import json"
   ]
  },
  {
   "cell_type": "code",
   "execution_count": 2,
   "id": "3837d236",
   "metadata": {},
   "outputs": [],
   "source": [
    "def read_json_line_by_line(file_path):\n",
    "    data = []\n",
    "    with open(file_path, 'r') as f:\n",
    "        for line in f:\n",
    "            data.append(json.loads(line))\n",
    "    return data"
   ]
  },
  {
   "cell_type": "code",
   "execution_count": 3,
   "id": "4d54b83f",
   "metadata": {},
   "outputs": [],
   "source": [
    "receipts_data = read_json_line_by_line('receipts.json')\n",
    "users_data = read_json_line_by_line('users.json')\n",
    "brands_data = read_json_line_by_line('brands.json')"
   ]
  },
  {
   "cell_type": "code",
   "execution_count": 50,
   "id": "60c6763f",
   "metadata": {},
   "outputs": [],
   "source": [
    "#receipts_data.head()"
   ]
  },
  {
   "cell_type": "code",
   "execution_count": 4,
   "id": "75bb5c52",
   "metadata": {},
   "outputs": [],
   "source": [
    "receipts_df = pd.json_normalize(receipts_data)\n",
    "users_df = pd.json_normalize(users_data)\n",
    "brands_df = pd.json_normalize(brands_data)"
   ]
  },
  {
   "cell_type": "code",
   "execution_count": 11,
   "id": "294f7d98",
   "metadata": {},
   "outputs": [],
   "source": [
    "#print(receipts_df.head())"
   ]
  },
  {
   "cell_type": "code",
   "execution_count": 5,
   "id": "5ba4d94c",
   "metadata": {},
   "outputs": [],
   "source": [
    "receipt_items = receipts_df[['rewardsReceiptItemList', '_id.$oid']].explode('rewardsReceiptItemList')\n",
    "receipt_items = pd.json_normalize(receipt_items['rewardsReceiptItemList'])\n",
    "receipt_items['receipt_id'] = receipts_df['_id.$oid']"
   ]
  },
  {
   "cell_type": "code",
   "execution_count": 6,
   "id": "318a5ead",
   "metadata": {},
   "outputs": [],
   "source": [
    "receipts_df.drop(columns=['rewardsReceiptItemList'], inplace=True)"
   ]
  },
  {
   "cell_type": "code",
   "execution_count": 7,
   "id": "a7183f60",
   "metadata": {},
   "outputs": [],
   "source": [
    "receipts_df.rename(columns={'_id.$oid': 'receipt_id', 'createDate.$date': 'createDate', 'dateScanned.$date': 'dateScanned', 'finishedDate.$date': 'finishedDate', 'modifyDate.$date': 'modifyDate', 'pointsAwardedDate.$date': 'pointsAwardedDate', 'purchaseDate.$date': 'purchaseDate', 'userId': 'user_id'}, inplace=True)\n",
    "users_df.rename(columns={'_id.$oid': 'user_id', 'createdDate.$date': 'createdDate', 'lastLogin.$date': 'lastLogin'}, inplace=True)\n",
    "brands_df.rename(columns={'_id.$oid': 'brand_id'}, inplace=True)"
   ]
  },
  {
   "cell_type": "code",
   "execution_count": 8,
   "id": "b40e80da",
   "metadata": {},
   "outputs": [],
   "source": [
    "receipts_df.to_csv('receipts.csv', index=False)\n",
    "users_df.to_csv('users.csv', index=False)\n",
    "brands_df.to_csv('brands.csv', index=False)\n",
    "receipt_items.to_csv('receipt_items.csv', index=False)"
   ]
  },
  {
   "cell_type": "code",
   "execution_count": 9,
   "id": "7a7c293f",
   "metadata": {},
   "outputs": [],
   "source": [
    "receipts_df = pd.read_csv('receipts.csv')\n",
    "users_df = pd.read_csv('users.csv')\n",
    "brands_df = pd.read_csv('brands.csv')\n",
    "receipt_items_df = pd.read_csv('receipt_items.csv')"
   ]
  },
  {
   "cell_type": "code",
   "execution_count": 10,
   "id": "0d04b89a",
   "metadata": {},
   "outputs": [],
   "source": [
    "receipts_info = {\n",
    "    'columns': receipts_df.columns.tolist(),\n",
    "    'head': receipts_df.head().to_dict()\n",
    "}"
   ]
  },
  {
   "cell_type": "code",
   "execution_count": 36,
   "id": "959b67e4",
   "metadata": {},
   "outputs": [
    {
     "data": {
      "text/plain": [
       "(7381, 35)"
      ]
     },
     "execution_count": 36,
     "metadata": {},
     "output_type": "execute_result"
    }
   ],
   "source": [
    "receipt_items.shape"
   ]
  },
  {
   "cell_type": "code",
   "execution_count": 32,
   "id": "278a1dc8",
   "metadata": {},
   "outputs": [
    {
     "name": "stdout",
     "output_type": "stream",
     "text": [
      "<class 'pandas.core.frame.DataFrame'>\n",
      "RangeIndex: 7381 entries, 0 to 7380\n",
      "Data columns (total 35 columns):\n",
      " #   Column                              Non-Null Count  Dtype  \n",
      "---  ------                              --------------  -----  \n",
      " 0   barcode                             3090 non-null   object \n",
      " 1   description                         6560 non-null   object \n",
      " 2   finalPrice                          6767 non-null   object \n",
      " 3   itemPrice                           6767 non-null   object \n",
      " 4   needsFetchReview                    813 non-null    object \n",
      " 5   partnerItemId                       6941 non-null   object \n",
      " 6   preventTargetGapPoints              358 non-null    object \n",
      " 7   quantityPurchased                   6767 non-null   float64\n",
      " 8   userFlaggedBarcode                  337 non-null    object \n",
      " 9   userFlaggedNewItem                  323 non-null    object \n",
      " 10  userFlaggedPrice                    299 non-null    object \n",
      " 11  userFlaggedQuantity                 299 non-null    float64\n",
      " 12  needsFetchReviewReason              219 non-null    object \n",
      " 13  pointsNotAwardedReason              340 non-null    object \n",
      " 14  pointsPayerId                       1267 non-null   object \n",
      " 15  rewardsGroup                        1731 non-null   object \n",
      " 16  rewardsProductPartnerId             2269 non-null   object \n",
      " 17  userFlaggedDescription              205 non-null    object \n",
      " 18  originalMetaBriteBarcode            71 non-null     object \n",
      " 19  originalMetaBriteDescription        10 non-null     object \n",
      " 20  brandCode                           2600 non-null   object \n",
      " 21  competitorRewardsGroup              275 non-null    object \n",
      " 22  discountedItemPrice                 5769 non-null   object \n",
      " 23  originalReceiptItemText             5760 non-null   object \n",
      " 24  itemNumber                          153 non-null    object \n",
      " 25  originalMetaBriteQuantityPurchased  15 non-null     float64\n",
      " 26  pointsEarned                        927 non-null    object \n",
      " 27  targetPrice                         378 non-null    object \n",
      " 28  competitiveProduct                  645 non-null    object \n",
      " 29  originalFinalPrice                  9 non-null      object \n",
      " 30  originalMetaBriteItemPrice          9 non-null      object \n",
      " 31  deleted                             9 non-null      object \n",
      " 32  priceAfterCoupon                    956 non-null    object \n",
      " 33  metabriteCampaignId                 863 non-null    object \n",
      " 34  receipt_id                          1119 non-null   object \n",
      "dtypes: float64(3), object(32)\n",
      "memory usage: 2.0+ MB\n"
     ]
    }
   ],
   "source": [
    "receipt_items.info()"
   ]
  },
  {
   "cell_type": "code",
   "execution_count": 33,
   "id": "3843ead1",
   "metadata": {},
   "outputs": [
    {
     "data": {
      "text/plain": [
       "barcode                               4291\n",
       "description                            821\n",
       "finalPrice                             614\n",
       "itemPrice                              614\n",
       "needsFetchReview                      6568\n",
       "partnerItemId                          440\n",
       "preventTargetGapPoints                7023\n",
       "quantityPurchased                      614\n",
       "userFlaggedBarcode                    7044\n",
       "userFlaggedNewItem                    7058\n",
       "userFlaggedPrice                      7082\n",
       "userFlaggedQuantity                   7082\n",
       "needsFetchReviewReason                7162\n",
       "pointsNotAwardedReason                7041\n",
       "pointsPayerId                         6114\n",
       "rewardsGroup                          5650\n",
       "rewardsProductPartnerId               5112\n",
       "userFlaggedDescription                7176\n",
       "originalMetaBriteBarcode              7310\n",
       "originalMetaBriteDescription          7371\n",
       "brandCode                             4781\n",
       "competitorRewardsGroup                7106\n",
       "discountedItemPrice                   1612\n",
       "originalReceiptItemText               1621\n",
       "itemNumber                            7228\n",
       "originalMetaBriteQuantityPurchased    7366\n",
       "pointsEarned                          6454\n",
       "targetPrice                           7003\n",
       "competitiveProduct                    6736\n",
       "originalFinalPrice                    7372\n",
       "originalMetaBriteItemPrice            7372\n",
       "deleted                               7372\n",
       "priceAfterCoupon                      6425\n",
       "metabriteCampaignId                   6518\n",
       "receipt_id                            6262\n",
       "dtype: int64"
      ]
     },
     "execution_count": 33,
     "metadata": {},
     "output_type": "execute_result"
    }
   ],
   "source": [
    "receipt_items.isnull().sum()"
   ]
  },
  {
   "cell_type": "code",
   "execution_count": 11,
   "id": "93e76076",
   "metadata": {},
   "outputs": [],
   "source": [
    "users_info = {\n",
    "    'columns': users_df.columns.tolist(),\n",
    "    'head': users_df.head().to_dict()\n",
    "}"
   ]
  },
  {
   "cell_type": "code",
   "execution_count": 17,
   "id": "acd1189c",
   "metadata": {},
   "outputs": [
    {
     "data": {
      "text/plain": [
       "active           0\n",
       "role             0\n",
       "signUpSource    48\n",
       "state           56\n",
       "user_id          0\n",
       "createdDate      0\n",
       "lastLogin       62\n",
       "dtype: int64"
      ]
     },
     "execution_count": 17,
     "metadata": {},
     "output_type": "execute_result"
    }
   ],
   "source": [
    "users_df.isna().sum()"
   ]
  },
  {
   "cell_type": "code",
   "execution_count": 31,
   "id": "bef4eeab",
   "metadata": {},
   "outputs": [
    {
     "name": "stdout",
     "output_type": "stream",
     "text": [
      "<class 'pandas.core.frame.DataFrame'>\n",
      "RangeIndex: 495 entries, 0 to 494\n",
      "Data columns (total 7 columns):\n",
      " #   Column        Non-Null Count  Dtype  \n",
      "---  ------        --------------  -----  \n",
      " 0   active        495 non-null    bool   \n",
      " 1   role          495 non-null    object \n",
      " 2   signUpSource  447 non-null    object \n",
      " 3   state         439 non-null    object \n",
      " 4   user_id       495 non-null    object \n",
      " 5   createdDate   495 non-null    int64  \n",
      " 6   lastLogin     433 non-null    float64\n",
      "dtypes: bool(1), float64(1), int64(1), object(4)\n",
      "memory usage: 23.8+ KB\n"
     ]
    }
   ],
   "source": [
    "users_df.info()"
   ]
  },
  {
   "cell_type": "code",
   "execution_count": 40,
   "id": "8a8a7e05",
   "metadata": {},
   "outputs": [
    {
     "data": {
      "text/plain": [
       "(495, 7)"
      ]
     },
     "execution_count": 40,
     "metadata": {},
     "output_type": "execute_result"
    }
   ],
   "source": [
    "users_df.shape"
   ]
  },
  {
   "cell_type": "code",
   "execution_count": 41,
   "id": "f5ad159f",
   "metadata": {},
   "outputs": [],
   "source": [
    "brands_info = {\n",
    "    'columns': brands_df.columns.tolist(),\n",
    "    'head': brands_df.head().to_dict()\n",
    "}"
   ]
  },
  {
   "cell_type": "code",
   "execution_count": 42,
   "id": "8093da54",
   "metadata": {},
   "outputs": [
    {
     "name": "stdout",
     "output_type": "stream",
     "text": [
      "<class 'pandas.core.frame.DataFrame'>\n",
      "RangeIndex: 1167 entries, 0 to 1166\n",
      "Data columns (total 9 columns):\n",
      " #   Column        Non-Null Count  Dtype \n",
      "---  ------        --------------  ----- \n",
      " 0   barcode       1167 non-null   int64 \n",
      " 1   category      1012 non-null   object\n",
      " 2   categoryCode  517 non-null    object\n",
      " 3   name          1167 non-null   object\n",
      " 4   topBrand      555 non-null    object\n",
      " 5   brand_id      1167 non-null   object\n",
      " 6   cpg.$id.$oid  1167 non-null   object\n",
      " 7   cpg.$ref      1167 non-null   object\n",
      " 8   brandCode     898 non-null    object\n",
      "dtypes: int64(1), object(8)\n",
      "memory usage: 82.2+ KB\n"
     ]
    }
   ],
   "source": [
    "brands_df.info()"
   ]
  },
  {
   "cell_type": "code",
   "execution_count": 43,
   "id": "1a58cdfc",
   "metadata": {},
   "outputs": [
    {
     "data": {
      "text/plain": [
       "(1167, 9)"
      ]
     },
     "execution_count": 43,
     "metadata": {},
     "output_type": "execute_result"
    }
   ],
   "source": [
    "brands_df.shape"
   ]
  },
  {
   "cell_type": "code",
   "execution_count": 44,
   "id": "7926c04e",
   "metadata": {},
   "outputs": [
    {
     "data": {
      "text/plain": [
       "barcode           0\n",
       "category        155\n",
       "categoryCode    650\n",
       "name              0\n",
       "topBrand        612\n",
       "brand_id          0\n",
       "cpg.$id.$oid      0\n",
       "cpg.$ref          0\n",
       "brandCode       269\n",
       "dtype: int64"
      ]
     },
     "execution_count": 44,
     "metadata": {},
     "output_type": "execute_result"
    }
   ],
   "source": [
    "brands_df.isnull().sum()"
   ]
  },
  {
   "cell_type": "code",
   "execution_count": 13,
   "id": "6c799a8d",
   "metadata": {},
   "outputs": [],
   "source": [
    "receipt_items_info = {\n",
    "    'columns': receipt_items_df.columns.tolist(),\n",
    "    'head': receipt_items_df.head().to_dict()\n",
    "}"
   ]
  },
  {
   "cell_type": "code",
   "execution_count": 45,
   "id": "6cb732a7",
   "metadata": {},
   "outputs": [
    {
     "data": {
      "text/plain": [
       "(1119, 14)"
      ]
     },
     "execution_count": 45,
     "metadata": {},
     "output_type": "execute_result"
    }
   ],
   "source": [
    "receipts_df.shape"
   ]
  },
  {
   "cell_type": "code",
   "execution_count": 46,
   "id": "1ea1b106",
   "metadata": {},
   "outputs": [
    {
     "name": "stdout",
     "output_type": "stream",
     "text": [
      "<class 'pandas.core.frame.DataFrame'>\n",
      "RangeIndex: 1119 entries, 0 to 1118\n",
      "Data columns (total 14 columns):\n",
      " #   Column                   Non-Null Count  Dtype  \n",
      "---  ------                   --------------  -----  \n",
      " 0   bonusPointsEarned        544 non-null    float64\n",
      " 1   bonusPointsEarnedReason  544 non-null    object \n",
      " 2   pointsEarned             609 non-null    float64\n",
      " 3   purchasedItemCount       635 non-null    float64\n",
      " 4   rewardsReceiptStatus     1119 non-null   object \n",
      " 5   totalSpent               684 non-null    float64\n",
      " 6   user_id                  1119 non-null   object \n",
      " 7   receipt_id               1119 non-null   object \n",
      " 8   createDate               1119 non-null   int64  \n",
      " 9   dateScanned              1119 non-null   int64  \n",
      " 10  finishedDate             568 non-null    float64\n",
      " 11  modifyDate               1119 non-null   int64  \n",
      " 12  pointsAwardedDate        537 non-null    float64\n",
      " 13  purchaseDate             671 non-null    float64\n",
      "dtypes: float64(7), int64(3), object(4)\n",
      "memory usage: 122.5+ KB\n"
     ]
    }
   ],
   "source": [
    "receipts_df.info()"
   ]
  },
  {
   "cell_type": "code",
   "execution_count": 47,
   "id": "67edb193",
   "metadata": {},
   "outputs": [
    {
     "data": {
      "text/plain": [
       "bonusPointsEarned          575\n",
       "bonusPointsEarnedReason    575\n",
       "pointsEarned               510\n",
       "purchasedItemCount         484\n",
       "rewardsReceiptStatus         0\n",
       "totalSpent                 435\n",
       "user_id                      0\n",
       "receipt_id                   0\n",
       "createDate                   0\n",
       "dateScanned                  0\n",
       "finishedDate               551\n",
       "modifyDate                   0\n",
       "pointsAwardedDate          582\n",
       "purchaseDate               448\n",
       "dtype: int64"
      ]
     },
     "execution_count": 47,
     "metadata": {},
     "output_type": "execute_result"
    }
   ],
   "source": [
    "receipts_df.isnull().sum()"
   ]
  },
  {
   "cell_type": "code",
   "execution_count": 14,
   "id": "84c80f01",
   "metadata": {
    "scrolled": true
   },
   "outputs": [
    {
     "data": {
      "text/html": [
       "<div>\n",
       "<style scoped>\n",
       "    .dataframe tbody tr th:only-of-type {\n",
       "        vertical-align: middle;\n",
       "    }\n",
       "\n",
       "    .dataframe tbody tr th {\n",
       "        vertical-align: top;\n",
       "    }\n",
       "\n",
       "    .dataframe thead th {\n",
       "        text-align: right;\n",
       "    }\n",
       "</style>\n",
       "<table border=\"1\" class=\"dataframe\">\n",
       "  <thead>\n",
       "    <tr style=\"text-align: right;\">\n",
       "      <th></th>\n",
       "      <th>bonusPointsEarned</th>\n",
       "      <th>bonusPointsEarnedReason</th>\n",
       "      <th>pointsEarned</th>\n",
       "      <th>purchasedItemCount</th>\n",
       "      <th>rewardsReceiptStatus</th>\n",
       "      <th>totalSpent</th>\n",
       "      <th>user_id</th>\n",
       "      <th>receipt_id</th>\n",
       "      <th>createDate</th>\n",
       "      <th>dateScanned</th>\n",
       "      <th>finishedDate</th>\n",
       "      <th>modifyDate</th>\n",
       "      <th>pointsAwardedDate</th>\n",
       "      <th>purchaseDate</th>\n",
       "    </tr>\n",
       "  </thead>\n",
       "  <tbody>\n",
       "    <tr>\n",
       "      <th>0</th>\n",
       "      <td>500.0</td>\n",
       "      <td>Receipt number 2 completed, bonus point schedu...</td>\n",
       "      <td>500.0</td>\n",
       "      <td>5.0</td>\n",
       "      <td>FINISHED</td>\n",
       "      <td>26.0</td>\n",
       "      <td>5ff1e1eacfcf6c399c274ae6</td>\n",
       "      <td>5ff1e1eb0a720f0523000575</td>\n",
       "      <td>1609687531000</td>\n",
       "      <td>1609687531000</td>\n",
       "      <td>1.609688e+12</td>\n",
       "      <td>1609687536000</td>\n",
       "      <td>1.609688e+12</td>\n",
       "      <td>1.609632e+12</td>\n",
       "    </tr>\n",
       "    <tr>\n",
       "      <th>1</th>\n",
       "      <td>150.0</td>\n",
       "      <td>Receipt number 5 completed, bonus point schedu...</td>\n",
       "      <td>150.0</td>\n",
       "      <td>2.0</td>\n",
       "      <td>FINISHED</td>\n",
       "      <td>11.0</td>\n",
       "      <td>5ff1e194b6a9d73a3a9f1052</td>\n",
       "      <td>5ff1e1bb0a720f052300056b</td>\n",
       "      <td>1609687483000</td>\n",
       "      <td>1609687483000</td>\n",
       "      <td>1.609687e+12</td>\n",
       "      <td>1609687488000</td>\n",
       "      <td>1.609687e+12</td>\n",
       "      <td>1.609601e+12</td>\n",
       "    </tr>\n",
       "    <tr>\n",
       "      <th>2</th>\n",
       "      <td>5.0</td>\n",
       "      <td>All-receipts receipt bonus</td>\n",
       "      <td>5.0</td>\n",
       "      <td>1.0</td>\n",
       "      <td>REJECTED</td>\n",
       "      <td>10.0</td>\n",
       "      <td>5ff1e1f1cfcf6c399c274b0b</td>\n",
       "      <td>5ff1e1f10a720f052300057a</td>\n",
       "      <td>1609687537000</td>\n",
       "      <td>1609687537000</td>\n",
       "      <td>NaN</td>\n",
       "      <td>1609687542000</td>\n",
       "      <td>NaN</td>\n",
       "      <td>1.609632e+12</td>\n",
       "    </tr>\n",
       "    <tr>\n",
       "      <th>3</th>\n",
       "      <td>5.0</td>\n",
       "      <td>All-receipts receipt bonus</td>\n",
       "      <td>5.0</td>\n",
       "      <td>4.0</td>\n",
       "      <td>FINISHED</td>\n",
       "      <td>28.0</td>\n",
       "      <td>5ff1e1eacfcf6c399c274ae6</td>\n",
       "      <td>5ff1e1ee0a7214ada100056f</td>\n",
       "      <td>1609687534000</td>\n",
       "      <td>1609687534000</td>\n",
       "      <td>1.609688e+12</td>\n",
       "      <td>1609687539000</td>\n",
       "      <td>1.609688e+12</td>\n",
       "      <td>1.609632e+12</td>\n",
       "    </tr>\n",
       "    <tr>\n",
       "      <th>4</th>\n",
       "      <td>5.0</td>\n",
       "      <td>All-receipts receipt bonus</td>\n",
       "      <td>5.0</td>\n",
       "      <td>2.0</td>\n",
       "      <td>FINISHED</td>\n",
       "      <td>1.0</td>\n",
       "      <td>5ff1e194b6a9d73a3a9f1052</td>\n",
       "      <td>5ff1e1d20a7214ada1000561</td>\n",
       "      <td>1609687506000</td>\n",
       "      <td>1609687506000</td>\n",
       "      <td>1.609688e+12</td>\n",
       "      <td>1609687511000</td>\n",
       "      <td>1.609688e+12</td>\n",
       "      <td>1.609601e+12</td>\n",
       "    </tr>\n",
       "  </tbody>\n",
       "</table>\n",
       "</div>"
      ],
      "text/plain": [
       "   bonusPointsEarned                            bonusPointsEarnedReason  \\\n",
       "0              500.0  Receipt number 2 completed, bonus point schedu...   \n",
       "1              150.0  Receipt number 5 completed, bonus point schedu...   \n",
       "2                5.0                         All-receipts receipt bonus   \n",
       "3                5.0                         All-receipts receipt bonus   \n",
       "4                5.0                         All-receipts receipt bonus   \n",
       "\n",
       "   pointsEarned  purchasedItemCount rewardsReceiptStatus  totalSpent  \\\n",
       "0         500.0                 5.0             FINISHED        26.0   \n",
       "1         150.0                 2.0             FINISHED        11.0   \n",
       "2           5.0                 1.0             REJECTED        10.0   \n",
       "3           5.0                 4.0             FINISHED        28.0   \n",
       "4           5.0                 2.0             FINISHED         1.0   \n",
       "\n",
       "                    user_id                receipt_id     createDate  \\\n",
       "0  5ff1e1eacfcf6c399c274ae6  5ff1e1eb0a720f0523000575  1609687531000   \n",
       "1  5ff1e194b6a9d73a3a9f1052  5ff1e1bb0a720f052300056b  1609687483000   \n",
       "2  5ff1e1f1cfcf6c399c274b0b  5ff1e1f10a720f052300057a  1609687537000   \n",
       "3  5ff1e1eacfcf6c399c274ae6  5ff1e1ee0a7214ada100056f  1609687534000   \n",
       "4  5ff1e194b6a9d73a3a9f1052  5ff1e1d20a7214ada1000561  1609687506000   \n",
       "\n",
       "     dateScanned  finishedDate     modifyDate  pointsAwardedDate  purchaseDate  \n",
       "0  1609687531000  1.609688e+12  1609687536000       1.609688e+12  1.609632e+12  \n",
       "1  1609687483000  1.609687e+12  1609687488000       1.609687e+12  1.609601e+12  \n",
       "2  1609687537000           NaN  1609687542000                NaN  1.609632e+12  \n",
       "3  1609687534000  1.609688e+12  1609687539000       1.609688e+12  1.609632e+12  \n",
       "4  1609687506000  1.609688e+12  1609687511000       1.609688e+12  1.609601e+12  "
      ]
     },
     "execution_count": 14,
     "metadata": {},
     "output_type": "execute_result"
    }
   ],
   "source": [
    "receipts_df.head()"
   ]
  },
  {
   "cell_type": "code",
   "execution_count": 15,
   "id": "38a662ea",
   "metadata": {},
   "outputs": [
    {
     "data": {
      "text/plain": [
       "bonusPointsEarned          575\n",
       "bonusPointsEarnedReason    575\n",
       "pointsEarned               510\n",
       "purchasedItemCount         484\n",
       "rewardsReceiptStatus         0\n",
       "totalSpent                 435\n",
       "user_id                      0\n",
       "receipt_id                   0\n",
       "createDate                   0\n",
       "dateScanned                  0\n",
       "finishedDate               551\n",
       "modifyDate                   0\n",
       "pointsAwardedDate          582\n",
       "purchaseDate               448\n",
       "dtype: int64"
      ]
     },
     "execution_count": 15,
     "metadata": {},
     "output_type": "execute_result"
    }
   ],
   "source": [
    "receipts_df.isnull().sum()"
   ]
  },
  {
   "cell_type": "code",
   "execution_count": 83,
   "id": "cf98d3ab",
   "metadata": {},
   "outputs": [],
   "source": [
    "def convert_timestamp(timestamp):\n",
    "    try:\n",
    "        # Convert to float first, then to int\n",
    "        timestamp_float = float(timestamp)\n",
    "        timestamp_int = int(timestamp_float)\n",
    "        # Convert the Unix timestamp to a datetime object\n",
    "        return datetime.utcfromtimestamp(timestamp_int / 1000)\n",
    "    except Exception as e:\n",
    "        print(f\"Error converting timestamp {timestamp}: {e}\")\n",
    "        return pd.NaT"
   ]
  },
  {
   "cell_type": "code",
   "execution_count": 84,
   "id": "5d2c6194",
   "metadata": {},
   "outputs": [],
   "source": [
    "receipts_df['createDate'] = receipts_df['createDate'].apply(convert_timestamp)"
   ]
  },
  {
   "cell_type": "code",
   "execution_count": 85,
   "id": "2e446903",
   "metadata": {},
   "outputs": [
    {
     "data": {
      "text/plain": [
       "0      2021-01-03 15:25:31.000\n",
       "1      2021-01-03 15:24:43.000\n",
       "2      2021-01-03 15:25:37.000\n",
       "3      2021-01-03 15:25:34.000\n",
       "4      2021-01-03 15:25:06.000\n",
       "                 ...          \n",
       "1114   2021-03-01 10:22:27.000\n",
       "1115   2021-03-01 15:42:41.873\n",
       "1116   2021-03-01 14:07:37.664\n",
       "1117   2021-03-01 13:07:28.000\n",
       "1118   2021-03-01 02:22:34.962\n",
       "Name: createDate, Length: 1119, dtype: datetime64[ns]"
      ]
     },
     "execution_count": 85,
     "metadata": {},
     "output_type": "execute_result"
    }
   ],
   "source": [
    "receipts_df['createDate']"
   ]
  },
  {
   "cell_type": "code",
   "execution_count": 86,
   "id": "5436e5eb",
   "metadata": {},
   "outputs": [
    {
     "data": {
      "text/plain": [
       "0"
      ]
     },
     "execution_count": 86,
     "metadata": {},
     "output_type": "execute_result"
    }
   ],
   "source": [
    "receipts_df['createDate'].isnull().sum()"
   ]
  },
  {
   "cell_type": "code",
   "execution_count": 87,
   "id": "a6c94199",
   "metadata": {},
   "outputs": [],
   "source": [
    "receipts_df['dateScanned'] = receipts_df['dateScanned'].apply(convert_timestamp)"
   ]
  },
  {
   "cell_type": "code",
   "execution_count": 88,
   "id": "ec7b9741",
   "metadata": {},
   "outputs": [
    {
     "data": {
      "text/plain": [
       "0      2021-01-03 15:25:31.000\n",
       "1      2021-01-03 15:24:43.000\n",
       "2      2021-01-03 15:25:37.000\n",
       "3      2021-01-03 15:25:34.000\n",
       "4      2021-01-03 15:25:06.000\n",
       "                 ...          \n",
       "1114   2021-03-01 10:22:27.000\n",
       "1115   2021-03-01 15:42:41.873\n",
       "1116   2021-03-01 14:07:37.664\n",
       "1117   2021-03-01 13:07:28.000\n",
       "1118   2021-03-01 02:22:34.962\n",
       "Name: dateScanned, Length: 1119, dtype: datetime64[ns]"
      ]
     },
     "execution_count": 88,
     "metadata": {},
     "output_type": "execute_result"
    }
   ],
   "source": [
    "receipts_df['dateScanned']"
   ]
  },
  {
   "cell_type": "code",
   "execution_count": 89,
   "id": "72cc7083",
   "metadata": {},
   "outputs": [
    {
     "data": {
      "text/plain": [
       "0"
      ]
     },
     "execution_count": 89,
     "metadata": {},
     "output_type": "execute_result"
    }
   ],
   "source": [
    "receipts_df['dateScanned'].isnull().sum()"
   ]
  },
  {
   "cell_type": "code",
   "execution_count": 91,
   "id": "91fe3510",
   "metadata": {},
   "outputs": [],
   "source": [
    "def convert_timestamp(timestamp):\n",
    "    try:\n",
    "        if pd.isna(timestamp):\n",
    "            return pd.NaT\n",
    "        timestamp_float = float(timestamp)\n",
    "        timestamp_int = int(timestamp_float)\n",
    "        return datetime.utcfromtimestamp(timestamp_int / 1000)\n",
    "    except Exception as e:\n",
    "        print(f\"Error converting timestamp {timestamp}: {e}\")\n",
    "        return pd.NaT"
   ]
  },
  {
   "cell_type": "code",
   "execution_count": 92,
   "id": "1eb3f38c",
   "metadata": {},
   "outputs": [
    {
     "data": {
      "text/plain": [
       "0       1.609688e+12\n",
       "1       1.609687e+12\n",
       "2                NaN\n",
       "3       1.609688e+12\n",
       "4       1.609688e+12\n",
       "            ...     \n",
       "1114             NaN\n",
       "1115             NaN\n",
       "1116             NaN\n",
       "1117             NaN\n",
       "1118             NaN\n",
       "Name: finishedDate, Length: 1119, dtype: float64"
      ]
     },
     "execution_count": 92,
     "metadata": {},
     "output_type": "execute_result"
    }
   ],
   "source": [
    "receipts_df['finishedDate']"
   ]
  },
  {
   "cell_type": "code",
   "execution_count": 93,
   "id": "a9dd62c0",
   "metadata": {},
   "outputs": [],
   "source": [
    "receipts_df['finishedDate'] = receipts_df['finishedDate'].apply(convert_timestamp)"
   ]
  },
  {
   "cell_type": "code",
   "execution_count": 94,
   "id": "359cceb7",
   "metadata": {},
   "outputs": [
    {
     "data": {
      "text/plain": [
       "0      2021-01-03 15:25:31\n",
       "1      2021-01-03 15:24:43\n",
       "2                      NaT\n",
       "3      2021-01-03 15:25:34\n",
       "4      2021-01-03 15:25:11\n",
       "               ...        \n",
       "1114                   NaT\n",
       "1115                   NaT\n",
       "1116                   NaT\n",
       "1117                   NaT\n",
       "1118                   NaT\n",
       "Name: finishedDate, Length: 1119, dtype: datetime64[ns]"
      ]
     },
     "execution_count": 94,
     "metadata": {},
     "output_type": "execute_result"
    }
   ],
   "source": [
    "receipts_df['finishedDate']"
   ]
  },
  {
   "cell_type": "code",
   "execution_count": 95,
   "id": "8a55099e",
   "metadata": {},
   "outputs": [
    {
     "data": {
      "text/plain": [
       "551"
      ]
     },
     "execution_count": 95,
     "metadata": {},
     "output_type": "execute_result"
    }
   ],
   "source": [
    "receipts_df['finishedDate'].isnull().sum()"
   ]
  },
  {
   "cell_type": "code",
   "execution_count": 96,
   "id": "e6d4cfab",
   "metadata": {},
   "outputs": [
    {
     "data": {
      "text/plain": [
       "0       1609687536000\n",
       "1       1609687488000\n",
       "2       1609687542000\n",
       "3       1609687539000\n",
       "4       1609687511000\n",
       "            ...      \n",
       "1114    1614594148000\n",
       "1115    1614613361873\n",
       "1116    1614607657664\n",
       "1117    1614604049000\n",
       "1118    1614565354962\n",
       "Name: modifyDate, Length: 1119, dtype: int64"
      ]
     },
     "execution_count": 96,
     "metadata": {},
     "output_type": "execute_result"
    }
   ],
   "source": [
    "receipts_df['modifyDate']"
   ]
  },
  {
   "cell_type": "code",
   "execution_count": 97,
   "id": "6ffb2a15",
   "metadata": {},
   "outputs": [],
   "source": [
    "receipts_df['modifyDate'] = receipts_df['modifyDate'].apply(convert_timestamp)"
   ]
  },
  {
   "cell_type": "code",
   "execution_count": 98,
   "id": "38fdb24e",
   "metadata": {},
   "outputs": [
    {
     "data": {
      "text/plain": [
       "0      2021-01-03 15:25:36.000\n",
       "1      2021-01-03 15:24:48.000\n",
       "2      2021-01-03 15:25:42.000\n",
       "3      2021-01-03 15:25:39.000\n",
       "4      2021-01-03 15:25:11.000\n",
       "                 ...          \n",
       "1114   2021-03-01 10:22:28.000\n",
       "1115   2021-03-01 15:42:41.873\n",
       "1116   2021-03-01 14:07:37.664\n",
       "1117   2021-03-01 13:07:29.000\n",
       "1118   2021-03-01 02:22:34.962\n",
       "Name: modifyDate, Length: 1119, dtype: datetime64[ns]"
      ]
     },
     "execution_count": 98,
     "metadata": {},
     "output_type": "execute_result"
    }
   ],
   "source": [
    "receipts_df['modifyDate']"
   ]
  },
  {
   "cell_type": "code",
   "execution_count": 99,
   "id": "5d625c30",
   "metadata": {},
   "outputs": [
    {
     "data": {
      "text/plain": [
       "0"
      ]
     },
     "execution_count": 99,
     "metadata": {},
     "output_type": "execute_result"
    }
   ],
   "source": [
    "receipts_df['modifyDate'].isnull().sum()"
   ]
  },
  {
   "cell_type": "code",
   "execution_count": 100,
   "id": "238154e6",
   "metadata": {},
   "outputs": [
    {
     "data": {
      "text/plain": [
       "0       1.609688e+12\n",
       "1       1.609687e+12\n",
       "2                NaN\n",
       "3       1.609688e+12\n",
       "4       1.609688e+12\n",
       "            ...     \n",
       "1114             NaN\n",
       "1115             NaN\n",
       "1116             NaN\n",
       "1117             NaN\n",
       "1118             NaN\n",
       "Name: pointsAwardedDate, Length: 1119, dtype: float64"
      ]
     },
     "execution_count": 100,
     "metadata": {},
     "output_type": "execute_result"
    }
   ],
   "source": [
    "receipts_df['pointsAwardedDate']"
   ]
  },
  {
   "cell_type": "code",
   "execution_count": 101,
   "id": "c4c33e94",
   "metadata": {},
   "outputs": [],
   "source": [
    "receipts_df['pointsAwardedDate'] = receipts_df['pointsAwardedDate'].apply(convert_timestamp)"
   ]
  },
  {
   "cell_type": "code",
   "execution_count": 102,
   "id": "22c038b8",
   "metadata": {},
   "outputs": [
    {
     "data": {
      "text/plain": [
       "582"
      ]
     },
     "execution_count": 102,
     "metadata": {},
     "output_type": "execute_result"
    }
   ],
   "source": [
    "receipts_df['pointsAwardedDate'].isnull().sum()"
   ]
  },
  {
   "cell_type": "code",
   "execution_count": 103,
   "id": "1f777fe6",
   "metadata": {},
   "outputs": [
    {
     "data": {
      "text/plain": [
       "0      2021-01-03 15:25:31\n",
       "1      2021-01-03 15:24:43\n",
       "2                      NaT\n",
       "3      2021-01-03 15:25:34\n",
       "4      2021-01-03 15:25:06\n",
       "               ...        \n",
       "1114                   NaT\n",
       "1115                   NaT\n",
       "1116                   NaT\n",
       "1117                   NaT\n",
       "1118                   NaT\n",
       "Name: pointsAwardedDate, Length: 1119, dtype: datetime64[ns]"
      ]
     },
     "execution_count": 103,
     "metadata": {},
     "output_type": "execute_result"
    }
   ],
   "source": [
    "receipts_df['pointsAwardedDate']"
   ]
  },
  {
   "cell_type": "code",
   "execution_count": 104,
   "id": "e0aed088",
   "metadata": {},
   "outputs": [
    {
     "data": {
      "text/plain": [
       "0       1.609632e+12\n",
       "1       1.609601e+12\n",
       "2       1.609632e+12\n",
       "3       1.609632e+12\n",
       "4       1.609601e+12\n",
       "            ...     \n",
       "1114    1.597622e+12\n",
       "1115             NaN\n",
       "1116             NaN\n",
       "1117    1.597622e+12\n",
       "1118             NaN\n",
       "Name: purchaseDate, Length: 1119, dtype: float64"
      ]
     },
     "execution_count": 104,
     "metadata": {},
     "output_type": "execute_result"
    }
   ],
   "source": [
    "receipts_df['purchaseDate']"
   ]
  },
  {
   "cell_type": "code",
   "execution_count": 105,
   "id": "3567f066",
   "metadata": {},
   "outputs": [],
   "source": [
    "receipts_df['purchaseDate'] = receipts_df['purchaseDate'].apply(convert_timestamp)"
   ]
  },
  {
   "cell_type": "code",
   "execution_count": 106,
   "id": "de08dc50",
   "metadata": {},
   "outputs": [
    {
     "data": {
      "text/plain": [
       "0      2021-01-03 00:00:00\n",
       "1      2021-01-02 15:24:43\n",
       "2      2021-01-03 00:00:00\n",
       "3      2021-01-03 00:00:00\n",
       "4      2021-01-02 15:25:06\n",
       "               ...        \n",
       "1114   2020-08-17 00:00:00\n",
       "1115                   NaT\n",
       "1116                   NaT\n",
       "1117   2020-08-17 00:00:00\n",
       "1118                   NaT\n",
       "Name: purchaseDate, Length: 1119, dtype: datetime64[ns]"
      ]
     },
     "execution_count": 106,
     "metadata": {},
     "output_type": "execute_result"
    }
   ],
   "source": [
    "receipts_df['purchaseDate']"
   ]
  },
  {
   "cell_type": "code",
   "execution_count": 107,
   "id": "cd8cd711",
   "metadata": {},
   "outputs": [
    {
     "data": {
      "text/plain": [
       "448"
      ]
     },
     "execution_count": 107,
     "metadata": {},
     "output_type": "execute_result"
    }
   ],
   "source": [
    "receipts_df['purchaseDate'].isnull().sum()"
   ]
  },
  {
   "cell_type": "code",
   "execution_count": 108,
   "id": "f75aa32f",
   "metadata": {},
   "outputs": [
    {
     "data": {
      "text/html": [
       "<div>\n",
       "<style scoped>\n",
       "    .dataframe tbody tr th:only-of-type {\n",
       "        vertical-align: middle;\n",
       "    }\n",
       "\n",
       "    .dataframe tbody tr th {\n",
       "        vertical-align: top;\n",
       "    }\n",
       "\n",
       "    .dataframe thead th {\n",
       "        text-align: right;\n",
       "    }\n",
       "</style>\n",
       "<table border=\"1\" class=\"dataframe\">\n",
       "  <thead>\n",
       "    <tr style=\"text-align: right;\">\n",
       "      <th></th>\n",
       "      <th>bonusPointsEarned</th>\n",
       "      <th>bonusPointsEarnedReason</th>\n",
       "      <th>pointsEarned</th>\n",
       "      <th>purchasedItemCount</th>\n",
       "      <th>rewardsReceiptStatus</th>\n",
       "      <th>totalSpent</th>\n",
       "      <th>user_id</th>\n",
       "      <th>receipt_id</th>\n",
       "      <th>createDate</th>\n",
       "      <th>dateScanned</th>\n",
       "      <th>finishedDate</th>\n",
       "      <th>modifyDate</th>\n",
       "      <th>pointsAwardedDate</th>\n",
       "      <th>purchaseDate</th>\n",
       "    </tr>\n",
       "  </thead>\n",
       "  <tbody>\n",
       "    <tr>\n",
       "      <th>0</th>\n",
       "      <td>500.0</td>\n",
       "      <td>Receipt number 2 completed, bonus point schedu...</td>\n",
       "      <td>500.0</td>\n",
       "      <td>5.0</td>\n",
       "      <td>FINISHED</td>\n",
       "      <td>26.0</td>\n",
       "      <td>5ff1e1eacfcf6c399c274ae6</td>\n",
       "      <td>5ff1e1eb0a720f0523000575</td>\n",
       "      <td>2021-01-03 15:25:31</td>\n",
       "      <td>2021-01-03 15:25:31</td>\n",
       "      <td>2021-01-03 15:25:31</td>\n",
       "      <td>2021-01-03 15:25:36</td>\n",
       "      <td>2021-01-03 15:25:31</td>\n",
       "      <td>2021-01-03 00:00:00</td>\n",
       "    </tr>\n",
       "    <tr>\n",
       "      <th>1</th>\n",
       "      <td>150.0</td>\n",
       "      <td>Receipt number 5 completed, bonus point schedu...</td>\n",
       "      <td>150.0</td>\n",
       "      <td>2.0</td>\n",
       "      <td>FINISHED</td>\n",
       "      <td>11.0</td>\n",
       "      <td>5ff1e194b6a9d73a3a9f1052</td>\n",
       "      <td>5ff1e1bb0a720f052300056b</td>\n",
       "      <td>2021-01-03 15:24:43</td>\n",
       "      <td>2021-01-03 15:24:43</td>\n",
       "      <td>2021-01-03 15:24:43</td>\n",
       "      <td>2021-01-03 15:24:48</td>\n",
       "      <td>2021-01-03 15:24:43</td>\n",
       "      <td>2021-01-02 15:24:43</td>\n",
       "    </tr>\n",
       "    <tr>\n",
       "      <th>2</th>\n",
       "      <td>5.0</td>\n",
       "      <td>All-receipts receipt bonus</td>\n",
       "      <td>5.0</td>\n",
       "      <td>1.0</td>\n",
       "      <td>REJECTED</td>\n",
       "      <td>10.0</td>\n",
       "      <td>5ff1e1f1cfcf6c399c274b0b</td>\n",
       "      <td>5ff1e1f10a720f052300057a</td>\n",
       "      <td>2021-01-03 15:25:37</td>\n",
       "      <td>2021-01-03 15:25:37</td>\n",
       "      <td>NaT</td>\n",
       "      <td>2021-01-03 15:25:42</td>\n",
       "      <td>NaT</td>\n",
       "      <td>2021-01-03 00:00:00</td>\n",
       "    </tr>\n",
       "    <tr>\n",
       "      <th>3</th>\n",
       "      <td>5.0</td>\n",
       "      <td>All-receipts receipt bonus</td>\n",
       "      <td>5.0</td>\n",
       "      <td>4.0</td>\n",
       "      <td>FINISHED</td>\n",
       "      <td>28.0</td>\n",
       "      <td>5ff1e1eacfcf6c399c274ae6</td>\n",
       "      <td>5ff1e1ee0a7214ada100056f</td>\n",
       "      <td>2021-01-03 15:25:34</td>\n",
       "      <td>2021-01-03 15:25:34</td>\n",
       "      <td>2021-01-03 15:25:34</td>\n",
       "      <td>2021-01-03 15:25:39</td>\n",
       "      <td>2021-01-03 15:25:34</td>\n",
       "      <td>2021-01-03 00:00:00</td>\n",
       "    </tr>\n",
       "    <tr>\n",
       "      <th>4</th>\n",
       "      <td>5.0</td>\n",
       "      <td>All-receipts receipt bonus</td>\n",
       "      <td>5.0</td>\n",
       "      <td>2.0</td>\n",
       "      <td>FINISHED</td>\n",
       "      <td>1.0</td>\n",
       "      <td>5ff1e194b6a9d73a3a9f1052</td>\n",
       "      <td>5ff1e1d20a7214ada1000561</td>\n",
       "      <td>2021-01-03 15:25:06</td>\n",
       "      <td>2021-01-03 15:25:06</td>\n",
       "      <td>2021-01-03 15:25:11</td>\n",
       "      <td>2021-01-03 15:25:11</td>\n",
       "      <td>2021-01-03 15:25:06</td>\n",
       "      <td>2021-01-02 15:25:06</td>\n",
       "    </tr>\n",
       "  </tbody>\n",
       "</table>\n",
       "</div>"
      ],
      "text/plain": [
       "   bonusPointsEarned                            bonusPointsEarnedReason  \\\n",
       "0              500.0  Receipt number 2 completed, bonus point schedu...   \n",
       "1              150.0  Receipt number 5 completed, bonus point schedu...   \n",
       "2                5.0                         All-receipts receipt bonus   \n",
       "3                5.0                         All-receipts receipt bonus   \n",
       "4                5.0                         All-receipts receipt bonus   \n",
       "\n",
       "   pointsEarned  purchasedItemCount rewardsReceiptStatus  totalSpent  \\\n",
       "0         500.0                 5.0             FINISHED        26.0   \n",
       "1         150.0                 2.0             FINISHED        11.0   \n",
       "2           5.0                 1.0             REJECTED        10.0   \n",
       "3           5.0                 4.0             FINISHED        28.0   \n",
       "4           5.0                 2.0             FINISHED         1.0   \n",
       "\n",
       "                    user_id                receipt_id          createDate  \\\n",
       "0  5ff1e1eacfcf6c399c274ae6  5ff1e1eb0a720f0523000575 2021-01-03 15:25:31   \n",
       "1  5ff1e194b6a9d73a3a9f1052  5ff1e1bb0a720f052300056b 2021-01-03 15:24:43   \n",
       "2  5ff1e1f1cfcf6c399c274b0b  5ff1e1f10a720f052300057a 2021-01-03 15:25:37   \n",
       "3  5ff1e1eacfcf6c399c274ae6  5ff1e1ee0a7214ada100056f 2021-01-03 15:25:34   \n",
       "4  5ff1e194b6a9d73a3a9f1052  5ff1e1d20a7214ada1000561 2021-01-03 15:25:06   \n",
       "\n",
       "          dateScanned        finishedDate          modifyDate  \\\n",
       "0 2021-01-03 15:25:31 2021-01-03 15:25:31 2021-01-03 15:25:36   \n",
       "1 2021-01-03 15:24:43 2021-01-03 15:24:43 2021-01-03 15:24:48   \n",
       "2 2021-01-03 15:25:37                 NaT 2021-01-03 15:25:42   \n",
       "3 2021-01-03 15:25:34 2021-01-03 15:25:34 2021-01-03 15:25:39   \n",
       "4 2021-01-03 15:25:06 2021-01-03 15:25:11 2021-01-03 15:25:11   \n",
       "\n",
       "    pointsAwardedDate        purchaseDate  \n",
       "0 2021-01-03 15:25:31 2021-01-03 00:00:00  \n",
       "1 2021-01-03 15:24:43 2021-01-02 15:24:43  \n",
       "2                 NaT 2021-01-03 00:00:00  \n",
       "3 2021-01-03 15:25:34 2021-01-03 00:00:00  \n",
       "4 2021-01-03 15:25:06 2021-01-02 15:25:06  "
      ]
     },
     "execution_count": 108,
     "metadata": {},
     "output_type": "execute_result"
    }
   ],
   "source": [
    "receipts_df.head()"
   ]
  },
  {
   "cell_type": "code",
   "execution_count": 109,
   "id": "3e0cc7da",
   "metadata": {},
   "outputs": [
    {
     "data": {
      "text/plain": [
       "0      1609687444800\n",
       "1      1609687444800\n",
       "2      1609687444800\n",
       "3      1609687530554\n",
       "4      1609687444800\n",
       "           ...      \n",
       "490    1418998882381\n",
       "491    1418998882381\n",
       "492    1418998882381\n",
       "493    1418998882381\n",
       "494    1418998882381\n",
       "Name: createdDate, Length: 495, dtype: int64"
      ]
     },
     "execution_count": 109,
     "metadata": {},
     "output_type": "execute_result"
    }
   ],
   "source": [
    "users_df['createdDate']"
   ]
  },
  {
   "cell_type": "code",
   "execution_count": 110,
   "id": "dbfbede2",
   "metadata": {},
   "outputs": [
    {
     "data": {
      "text/plain": [
       "0"
      ]
     },
     "execution_count": 110,
     "metadata": {},
     "output_type": "execute_result"
    }
   ],
   "source": [
    "users_df['createdDate'].isnull().sum()"
   ]
  },
  {
   "cell_type": "code",
   "execution_count": 111,
   "id": "261e0a75",
   "metadata": {},
   "outputs": [],
   "source": [
    "users_df['createdDate'] = users_df['createdDate'].apply(convert_timestamp)"
   ]
  },
  {
   "cell_type": "code",
   "execution_count": 112,
   "id": "1c13a1b5",
   "metadata": {},
   "outputs": [
    {
     "data": {
      "text/plain": [
       "0     2021-01-03 15:24:04.800\n",
       "1     2021-01-03 15:24:04.800\n",
       "2     2021-01-03 15:24:04.800\n",
       "3     2021-01-03 15:25:30.554\n",
       "4     2021-01-03 15:24:04.800\n",
       "                ...          \n",
       "490   2014-12-19 14:21:22.381\n",
       "491   2014-12-19 14:21:22.381\n",
       "492   2014-12-19 14:21:22.381\n",
       "493   2014-12-19 14:21:22.381\n",
       "494   2014-12-19 14:21:22.381\n",
       "Name: createdDate, Length: 495, dtype: datetime64[ns]"
      ]
     },
     "execution_count": 112,
     "metadata": {},
     "output_type": "execute_result"
    }
   ],
   "source": [
    "users_df['createdDate']"
   ]
  },
  {
   "cell_type": "code",
   "execution_count": 115,
   "id": "a745f7f5",
   "metadata": {},
   "outputs": [],
   "source": [
    "users_df['lastLogin'] = users_df['lastLogin'].apply(convert_timestamp)"
   ]
  },
  {
   "cell_type": "code",
   "execution_count": 117,
   "id": "20382328",
   "metadata": {},
   "outputs": [
    {
     "data": {
      "text/plain": [
       "62"
      ]
     },
     "execution_count": 117,
     "metadata": {},
     "output_type": "execute_result"
    }
   ],
   "source": [
    "users_df['lastLogin'].isnull().sum()"
   ]
  },
  {
   "cell_type": "code",
   "execution_count": 116,
   "id": "e98429f6",
   "metadata": {},
   "outputs": [
    {
     "data": {
      "text/plain": [
       "0     2021-01-03 15:25:37.858\n",
       "1     2021-01-03 15:25:37.858\n",
       "2     2021-01-03 15:25:37.858\n",
       "3     2021-01-03 15:25:30.597\n",
       "4     2021-01-03 15:25:37.858\n",
       "                ...          \n",
       "490   2021-03-05 16:52:23.204\n",
       "491   2021-03-05 16:52:23.204\n",
       "492   2021-03-05 16:52:23.204\n",
       "493   2021-03-05 16:52:23.204\n",
       "494   2021-03-05 16:52:23.204\n",
       "Name: lastLogin, Length: 495, dtype: datetime64[ns]"
      ]
     },
     "execution_count": 116,
     "metadata": {},
     "output_type": "execute_result"
    }
   ],
   "source": [
    "users_df['lastLogin']"
   ]
  },
  {
   "cell_type": "code",
   "execution_count": 118,
   "id": "77eb1758",
   "metadata": {},
   "outputs": [
    {
     "data": {
      "text/html": [
       "<div>\n",
       "<style scoped>\n",
       "    .dataframe tbody tr th:only-of-type {\n",
       "        vertical-align: middle;\n",
       "    }\n",
       "\n",
       "    .dataframe tbody tr th {\n",
       "        vertical-align: top;\n",
       "    }\n",
       "\n",
       "    .dataframe thead th {\n",
       "        text-align: right;\n",
       "    }\n",
       "</style>\n",
       "<table border=\"1\" class=\"dataframe\">\n",
       "  <thead>\n",
       "    <tr style=\"text-align: right;\">\n",
       "      <th></th>\n",
       "      <th>active</th>\n",
       "      <th>role</th>\n",
       "      <th>signUpSource</th>\n",
       "      <th>state</th>\n",
       "      <th>user_id</th>\n",
       "      <th>createdDate</th>\n",
       "      <th>lastLogin</th>\n",
       "    </tr>\n",
       "  </thead>\n",
       "  <tbody>\n",
       "    <tr>\n",
       "      <th>0</th>\n",
       "      <td>True</td>\n",
       "      <td>consumer</td>\n",
       "      <td>Email</td>\n",
       "      <td>WI</td>\n",
       "      <td>5ff1e194b6a9d73a3a9f1052</td>\n",
       "      <td>2021-01-03 15:24:04.800</td>\n",
       "      <td>2021-01-03 15:25:37.858</td>\n",
       "    </tr>\n",
       "    <tr>\n",
       "      <th>1</th>\n",
       "      <td>True</td>\n",
       "      <td>consumer</td>\n",
       "      <td>Email</td>\n",
       "      <td>WI</td>\n",
       "      <td>5ff1e194b6a9d73a3a9f1052</td>\n",
       "      <td>2021-01-03 15:24:04.800</td>\n",
       "      <td>2021-01-03 15:25:37.858</td>\n",
       "    </tr>\n",
       "    <tr>\n",
       "      <th>2</th>\n",
       "      <td>True</td>\n",
       "      <td>consumer</td>\n",
       "      <td>Email</td>\n",
       "      <td>WI</td>\n",
       "      <td>5ff1e194b6a9d73a3a9f1052</td>\n",
       "      <td>2021-01-03 15:24:04.800</td>\n",
       "      <td>2021-01-03 15:25:37.858</td>\n",
       "    </tr>\n",
       "    <tr>\n",
       "      <th>3</th>\n",
       "      <td>True</td>\n",
       "      <td>consumer</td>\n",
       "      <td>Email</td>\n",
       "      <td>WI</td>\n",
       "      <td>5ff1e1eacfcf6c399c274ae6</td>\n",
       "      <td>2021-01-03 15:25:30.554</td>\n",
       "      <td>2021-01-03 15:25:30.597</td>\n",
       "    </tr>\n",
       "    <tr>\n",
       "      <th>4</th>\n",
       "      <td>True</td>\n",
       "      <td>consumer</td>\n",
       "      <td>Email</td>\n",
       "      <td>WI</td>\n",
       "      <td>5ff1e194b6a9d73a3a9f1052</td>\n",
       "      <td>2021-01-03 15:24:04.800</td>\n",
       "      <td>2021-01-03 15:25:37.858</td>\n",
       "    </tr>\n",
       "  </tbody>\n",
       "</table>\n",
       "</div>"
      ],
      "text/plain": [
       "   active      role signUpSource state                   user_id  \\\n",
       "0    True  consumer        Email    WI  5ff1e194b6a9d73a3a9f1052   \n",
       "1    True  consumer        Email    WI  5ff1e194b6a9d73a3a9f1052   \n",
       "2    True  consumer        Email    WI  5ff1e194b6a9d73a3a9f1052   \n",
       "3    True  consumer        Email    WI  5ff1e1eacfcf6c399c274ae6   \n",
       "4    True  consumer        Email    WI  5ff1e194b6a9d73a3a9f1052   \n",
       "\n",
       "              createdDate               lastLogin  \n",
       "0 2021-01-03 15:24:04.800 2021-01-03 15:25:37.858  \n",
       "1 2021-01-03 15:24:04.800 2021-01-03 15:25:37.858  \n",
       "2 2021-01-03 15:24:04.800 2021-01-03 15:25:37.858  \n",
       "3 2021-01-03 15:25:30.554 2021-01-03 15:25:30.597  \n",
       "4 2021-01-03 15:24:04.800 2021-01-03 15:25:37.858  "
      ]
     },
     "execution_count": 118,
     "metadata": {},
     "output_type": "execute_result"
    }
   ],
   "source": [
    "users_df.head()"
   ]
  },
  {
   "cell_type": "code",
   "execution_count": 119,
   "id": "f42a6ec8",
   "metadata": {},
   "outputs": [
    {
     "data": {
      "text/plain": [
       "0       500.0\n",
       "1       150.0\n",
       "2         5.0\n",
       "3         5.0\n",
       "4         5.0\n",
       "        ...  \n",
       "1114     25.0\n",
       "1115      NaN\n",
       "1116      NaN\n",
       "1117     25.0\n",
       "1118      NaN\n",
       "Name: pointsEarned, Length: 1119, dtype: float64"
      ]
     },
     "execution_count": 119,
     "metadata": {},
     "output_type": "execute_result"
    }
   ],
   "source": [
    "receipts_df['pointsEarned']"
   ]
  },
  {
   "cell_type": "code",
   "execution_count": 17,
   "id": "00dc59bc",
   "metadata": {},
   "outputs": [],
   "source": [
    "receipts_df['pointsEarned'] = pd.to_numeric(receipts_df['pointsEarned'], errors='coerce')\n",
    "receipts_df['totalSpent'] = pd.to_numeric(receipts_df['totalSpent'], errors='coerce')\n",
    "receipt_items_df['quantityPurchased'] = pd.to_numeric(receipt_items_df['quantityPurchased'], errors='coerce')"
   ]
  },
  {
   "cell_type": "code",
   "execution_count": 19,
   "id": "79deb36e",
   "metadata": {},
   "outputs": [],
   "source": [
    "receipts_df.to_csv('corrected_receipts.csv', index=False)\n",
    "users_df.to_csv('corrected_users.csv', index=False)\n",
    "brands_df.to_csv('corrected_brands.csv', index=False)\n",
    "receipt_items_df.to_csv('corrected_receipt_items.csv', index=False)"
   ]
  },
  {
   "cell_type": "code",
   "execution_count": 26,
   "id": "fc9070c8",
   "metadata": {},
   "outputs": [
    {
     "data": {
      "text/plain": [
       "<bound method IndexOpsMixin.nunique of 0      True\n",
       "1      True\n",
       "2      True\n",
       "3      True\n",
       "4      True\n",
       "       ... \n",
       "490    True\n",
       "491    True\n",
       "492    True\n",
       "493    True\n",
       "494    True\n",
       "Name: active, Length: 495, dtype: bool>"
      ]
     },
     "execution_count": 26,
     "metadata": {},
     "output_type": "execute_result"
    }
   ],
   "source": [
    "users_df['active'].nunique"
   ]
  },
  {
   "cell_type": "code",
   "execution_count": 120,
   "id": "6e4ea261",
   "metadata": {},
   "outputs": [
    {
     "data": {
      "text/html": [
       "<div>\n",
       "<style scoped>\n",
       "    .dataframe tbody tr th:only-of-type {\n",
       "        vertical-align: middle;\n",
       "    }\n",
       "\n",
       "    .dataframe tbody tr th {\n",
       "        vertical-align: top;\n",
       "    }\n",
       "\n",
       "    .dataframe thead th {\n",
       "        text-align: right;\n",
       "    }\n",
       "</style>\n",
       "<table border=\"1\" class=\"dataframe\">\n",
       "  <thead>\n",
       "    <tr style=\"text-align: right;\">\n",
       "      <th></th>\n",
       "      <th>active</th>\n",
       "      <th>role</th>\n",
       "      <th>signUpSource</th>\n",
       "      <th>state</th>\n",
       "      <th>user_id</th>\n",
       "      <th>createdDate</th>\n",
       "      <th>lastLogin</th>\n",
       "    </tr>\n",
       "  </thead>\n",
       "  <tbody>\n",
       "    <tr>\n",
       "      <th>0</th>\n",
       "      <td>True</td>\n",
       "      <td>consumer</td>\n",
       "      <td>Email</td>\n",
       "      <td>WI</td>\n",
       "      <td>5ff1e194b6a9d73a3a9f1052</td>\n",
       "      <td>2021-01-03 15:24:04.800</td>\n",
       "      <td>2021-01-03 15:25:37.858</td>\n",
       "    </tr>\n",
       "    <tr>\n",
       "      <th>1</th>\n",
       "      <td>True</td>\n",
       "      <td>consumer</td>\n",
       "      <td>Email</td>\n",
       "      <td>WI</td>\n",
       "      <td>5ff1e194b6a9d73a3a9f1052</td>\n",
       "      <td>2021-01-03 15:24:04.800</td>\n",
       "      <td>2021-01-03 15:25:37.858</td>\n",
       "    </tr>\n",
       "    <tr>\n",
       "      <th>2</th>\n",
       "      <td>True</td>\n",
       "      <td>consumer</td>\n",
       "      <td>Email</td>\n",
       "      <td>WI</td>\n",
       "      <td>5ff1e194b6a9d73a3a9f1052</td>\n",
       "      <td>2021-01-03 15:24:04.800</td>\n",
       "      <td>2021-01-03 15:25:37.858</td>\n",
       "    </tr>\n",
       "    <tr>\n",
       "      <th>3</th>\n",
       "      <td>True</td>\n",
       "      <td>consumer</td>\n",
       "      <td>Email</td>\n",
       "      <td>WI</td>\n",
       "      <td>5ff1e1eacfcf6c399c274ae6</td>\n",
       "      <td>2021-01-03 15:25:30.554</td>\n",
       "      <td>2021-01-03 15:25:30.597</td>\n",
       "    </tr>\n",
       "    <tr>\n",
       "      <th>4</th>\n",
       "      <td>True</td>\n",
       "      <td>consumer</td>\n",
       "      <td>Email</td>\n",
       "      <td>WI</td>\n",
       "      <td>5ff1e194b6a9d73a3a9f1052</td>\n",
       "      <td>2021-01-03 15:24:04.800</td>\n",
       "      <td>2021-01-03 15:25:37.858</td>\n",
       "    </tr>\n",
       "    <tr>\n",
       "      <th>...</th>\n",
       "      <td>...</td>\n",
       "      <td>...</td>\n",
       "      <td>...</td>\n",
       "      <td>...</td>\n",
       "      <td>...</td>\n",
       "      <td>...</td>\n",
       "      <td>...</td>\n",
       "    </tr>\n",
       "    <tr>\n",
       "      <th>490</th>\n",
       "      <td>True</td>\n",
       "      <td>fetch-staff</td>\n",
       "      <td>NaN</td>\n",
       "      <td>NaN</td>\n",
       "      <td>54943462e4b07e684157a532</td>\n",
       "      <td>2014-12-19 14:21:22.381</td>\n",
       "      <td>2021-03-05 16:52:23.204</td>\n",
       "    </tr>\n",
       "    <tr>\n",
       "      <th>491</th>\n",
       "      <td>True</td>\n",
       "      <td>fetch-staff</td>\n",
       "      <td>NaN</td>\n",
       "      <td>NaN</td>\n",
       "      <td>54943462e4b07e684157a532</td>\n",
       "      <td>2014-12-19 14:21:22.381</td>\n",
       "      <td>2021-03-05 16:52:23.204</td>\n",
       "    </tr>\n",
       "    <tr>\n",
       "      <th>492</th>\n",
       "      <td>True</td>\n",
       "      <td>fetch-staff</td>\n",
       "      <td>NaN</td>\n",
       "      <td>NaN</td>\n",
       "      <td>54943462e4b07e684157a532</td>\n",
       "      <td>2014-12-19 14:21:22.381</td>\n",
       "      <td>2021-03-05 16:52:23.204</td>\n",
       "    </tr>\n",
       "    <tr>\n",
       "      <th>493</th>\n",
       "      <td>True</td>\n",
       "      <td>fetch-staff</td>\n",
       "      <td>NaN</td>\n",
       "      <td>NaN</td>\n",
       "      <td>54943462e4b07e684157a532</td>\n",
       "      <td>2014-12-19 14:21:22.381</td>\n",
       "      <td>2021-03-05 16:52:23.204</td>\n",
       "    </tr>\n",
       "    <tr>\n",
       "      <th>494</th>\n",
       "      <td>True</td>\n",
       "      <td>fetch-staff</td>\n",
       "      <td>NaN</td>\n",
       "      <td>NaN</td>\n",
       "      <td>54943462e4b07e684157a532</td>\n",
       "      <td>2014-12-19 14:21:22.381</td>\n",
       "      <td>2021-03-05 16:52:23.204</td>\n",
       "    </tr>\n",
       "  </tbody>\n",
       "</table>\n",
       "<p>495 rows × 7 columns</p>\n",
       "</div>"
      ],
      "text/plain": [
       "     active         role signUpSource state                   user_id  \\\n",
       "0      True     consumer        Email    WI  5ff1e194b6a9d73a3a9f1052   \n",
       "1      True     consumer        Email    WI  5ff1e194b6a9d73a3a9f1052   \n",
       "2      True     consumer        Email    WI  5ff1e194b6a9d73a3a9f1052   \n",
       "3      True     consumer        Email    WI  5ff1e1eacfcf6c399c274ae6   \n",
       "4      True     consumer        Email    WI  5ff1e194b6a9d73a3a9f1052   \n",
       "..      ...          ...          ...   ...                       ...   \n",
       "490    True  fetch-staff          NaN   NaN  54943462e4b07e684157a532   \n",
       "491    True  fetch-staff          NaN   NaN  54943462e4b07e684157a532   \n",
       "492    True  fetch-staff          NaN   NaN  54943462e4b07e684157a532   \n",
       "493    True  fetch-staff          NaN   NaN  54943462e4b07e684157a532   \n",
       "494    True  fetch-staff          NaN   NaN  54943462e4b07e684157a532   \n",
       "\n",
       "                createdDate               lastLogin  \n",
       "0   2021-01-03 15:24:04.800 2021-01-03 15:25:37.858  \n",
       "1   2021-01-03 15:24:04.800 2021-01-03 15:25:37.858  \n",
       "2   2021-01-03 15:24:04.800 2021-01-03 15:25:37.858  \n",
       "3   2021-01-03 15:25:30.554 2021-01-03 15:25:30.597  \n",
       "4   2021-01-03 15:24:04.800 2021-01-03 15:25:37.858  \n",
       "..                      ...                     ...  \n",
       "490 2014-12-19 14:21:22.381 2021-03-05 16:52:23.204  \n",
       "491 2014-12-19 14:21:22.381 2021-03-05 16:52:23.204  \n",
       "492 2014-12-19 14:21:22.381 2021-03-05 16:52:23.204  \n",
       "493 2014-12-19 14:21:22.381 2021-03-05 16:52:23.204  \n",
       "494 2014-12-19 14:21:22.381 2021-03-05 16:52:23.204  \n",
       "\n",
       "[495 rows x 7 columns]"
      ]
     },
     "execution_count": 120,
     "metadata": {},
     "output_type": "execute_result"
    }
   ],
   "source": [
    "users_df"
   ]
  },
  {
   "cell_type": "code",
   "execution_count": 55,
   "id": "81be9fe6",
   "metadata": {},
   "outputs": [
    {
     "data": {
      "text/plain": [
       "signUpSource\n",
       "Email     443\n",
       "Google      4\n",
       "Name: count, dtype: int64"
      ]
     },
     "execution_count": 55,
     "metadata": {},
     "output_type": "execute_result"
    }
   ],
   "source": [
    "users_df['signUpSource'].value_counts()"
   ]
  },
  {
   "cell_type": "code",
   "execution_count": 121,
   "id": "b6d0cfdf",
   "metadata": {},
   "outputs": [
    {
     "data": {
      "text/html": [
       "<div>\n",
       "<style scoped>\n",
       "    .dataframe tbody tr th:only-of-type {\n",
       "        vertical-align: middle;\n",
       "    }\n",
       "\n",
       "    .dataframe tbody tr th {\n",
       "        vertical-align: top;\n",
       "    }\n",
       "\n",
       "    .dataframe thead th {\n",
       "        text-align: right;\n",
       "    }\n",
       "</style>\n",
       "<table border=\"1\" class=\"dataframe\">\n",
       "  <thead>\n",
       "    <tr style=\"text-align: right;\">\n",
       "      <th></th>\n",
       "      <th>barcode</th>\n",
       "      <th>category</th>\n",
       "      <th>categoryCode</th>\n",
       "      <th>name</th>\n",
       "      <th>topBrand</th>\n",
       "      <th>brand_id</th>\n",
       "      <th>cpg.$id.$oid</th>\n",
       "      <th>cpg.$ref</th>\n",
       "      <th>brandCode</th>\n",
       "    </tr>\n",
       "  </thead>\n",
       "  <tbody>\n",
       "    <tr>\n",
       "      <th>0</th>\n",
       "      <td>511111019862</td>\n",
       "      <td>Baking</td>\n",
       "      <td>BAKING</td>\n",
       "      <td>test brand @1612366101024</td>\n",
       "      <td>False</td>\n",
       "      <td>601ac115be37ce2ead437551</td>\n",
       "      <td>601ac114be37ce2ead437550</td>\n",
       "      <td>Cogs</td>\n",
       "      <td>NaN</td>\n",
       "    </tr>\n",
       "    <tr>\n",
       "      <th>1</th>\n",
       "      <td>511111519928</td>\n",
       "      <td>Beverages</td>\n",
       "      <td>BEVERAGES</td>\n",
       "      <td>Starbucks</td>\n",
       "      <td>False</td>\n",
       "      <td>601c5460be37ce2ead43755f</td>\n",
       "      <td>5332f5fbe4b03c9a25efd0ba</td>\n",
       "      <td>Cogs</td>\n",
       "      <td>STARBUCKS</td>\n",
       "    </tr>\n",
       "    <tr>\n",
       "      <th>2</th>\n",
       "      <td>511111819905</td>\n",
       "      <td>Baking</td>\n",
       "      <td>BAKING</td>\n",
       "      <td>test brand @1612366146176</td>\n",
       "      <td>False</td>\n",
       "      <td>601ac142be37ce2ead43755d</td>\n",
       "      <td>601ac142be37ce2ead437559</td>\n",
       "      <td>Cogs</td>\n",
       "      <td>TEST BRANDCODE @1612366146176</td>\n",
       "    </tr>\n",
       "    <tr>\n",
       "      <th>3</th>\n",
       "      <td>511111519874</td>\n",
       "      <td>Baking</td>\n",
       "      <td>BAKING</td>\n",
       "      <td>test brand @1612366146051</td>\n",
       "      <td>False</td>\n",
       "      <td>601ac142be37ce2ead43755a</td>\n",
       "      <td>601ac142be37ce2ead437559</td>\n",
       "      <td>Cogs</td>\n",
       "      <td>TEST BRANDCODE @1612366146051</td>\n",
       "    </tr>\n",
       "    <tr>\n",
       "      <th>4</th>\n",
       "      <td>511111319917</td>\n",
       "      <td>Candy &amp; Sweets</td>\n",
       "      <td>CANDY_AND_SWEETS</td>\n",
       "      <td>test brand @1612366146827</td>\n",
       "      <td>False</td>\n",
       "      <td>601ac142be37ce2ead43755e</td>\n",
       "      <td>5332fa12e4b03c9a25efd1e7</td>\n",
       "      <td>Cogs</td>\n",
       "      <td>TEST BRANDCODE @1612366146827</td>\n",
       "    </tr>\n",
       "    <tr>\n",
       "      <th>...</th>\n",
       "      <td>...</td>\n",
       "      <td>...</td>\n",
       "      <td>...</td>\n",
       "      <td>...</td>\n",
       "      <td>...</td>\n",
       "      <td>...</td>\n",
       "      <td>...</td>\n",
       "      <td>...</td>\n",
       "      <td>...</td>\n",
       "    </tr>\n",
       "    <tr>\n",
       "      <th>1162</th>\n",
       "      <td>511111116752</td>\n",
       "      <td>Baking</td>\n",
       "      <td>BAKING</td>\n",
       "      <td>test brand @1601644365844</td>\n",
       "      <td>NaN</td>\n",
       "      <td>5f77274dbe37ce6b592e90c0</td>\n",
       "      <td>5f77274dbe37ce6b592e90bf</td>\n",
       "      <td>Cogs</td>\n",
       "      <td>NaN</td>\n",
       "    </tr>\n",
       "    <tr>\n",
       "      <th>1163</th>\n",
       "      <td>511111706328</td>\n",
       "      <td>Breakfast &amp; Cereal</td>\n",
       "      <td>NaN</td>\n",
       "      <td>Dippin Dots® Cereal</td>\n",
       "      <td>NaN</td>\n",
       "      <td>5dc1fca91dda2c0ad7da64ae</td>\n",
       "      <td>53e10d6368abd3c7065097cc</td>\n",
       "      <td>Cogs</td>\n",
       "      <td>DIPPIN DOTS CEREAL</td>\n",
       "    </tr>\n",
       "    <tr>\n",
       "      <th>1164</th>\n",
       "      <td>511111416173</td>\n",
       "      <td>Candy &amp; Sweets</td>\n",
       "      <td>CANDY_AND_SWEETS</td>\n",
       "      <td>test brand @1598639215217</td>\n",
       "      <td>NaN</td>\n",
       "      <td>5f494c6e04db711dd8fe87e7</td>\n",
       "      <td>5332fa12e4b03c9a25efd1e7</td>\n",
       "      <td>Cogs</td>\n",
       "      <td>TEST BRANDCODE @1598639215217</td>\n",
       "    </tr>\n",
       "    <tr>\n",
       "      <th>1165</th>\n",
       "      <td>511111400608</td>\n",
       "      <td>Grocery</td>\n",
       "      <td>NaN</td>\n",
       "      <td>LIPTON TEA Leaves</td>\n",
       "      <td>False</td>\n",
       "      <td>5a021611e4b00efe02b02a57</td>\n",
       "      <td>5332f5f6e4b03c9a25efd0b4</td>\n",
       "      <td>Cogs</td>\n",
       "      <td>LIPTON TEA Leaves</td>\n",
       "    </tr>\n",
       "    <tr>\n",
       "      <th>1166</th>\n",
       "      <td>511111019930</td>\n",
       "      <td>Baking</td>\n",
       "      <td>BAKING</td>\n",
       "      <td>test brand @1613158231643</td>\n",
       "      <td>False</td>\n",
       "      <td>6026d757be37ce6369301468</td>\n",
       "      <td>6026d757be37ce6369301467</td>\n",
       "      <td>Cogs</td>\n",
       "      <td>TEST BRANDCODE @1613158231644</td>\n",
       "    </tr>\n",
       "  </tbody>\n",
       "</table>\n",
       "<p>1167 rows × 9 columns</p>\n",
       "</div>"
      ],
      "text/plain": [
       "           barcode            category      categoryCode  \\\n",
       "0     511111019862              Baking            BAKING   \n",
       "1     511111519928           Beverages         BEVERAGES   \n",
       "2     511111819905              Baking            BAKING   \n",
       "3     511111519874              Baking            BAKING   \n",
       "4     511111319917      Candy & Sweets  CANDY_AND_SWEETS   \n",
       "...            ...                 ...               ...   \n",
       "1162  511111116752              Baking            BAKING   \n",
       "1163  511111706328  Breakfast & Cereal               NaN   \n",
       "1164  511111416173      Candy & Sweets  CANDY_AND_SWEETS   \n",
       "1165  511111400608             Grocery               NaN   \n",
       "1166  511111019930              Baking            BAKING   \n",
       "\n",
       "                           name topBrand                  brand_id  \\\n",
       "0     test brand @1612366101024    False  601ac115be37ce2ead437551   \n",
       "1                     Starbucks    False  601c5460be37ce2ead43755f   \n",
       "2     test brand @1612366146176    False  601ac142be37ce2ead43755d   \n",
       "3     test brand @1612366146051    False  601ac142be37ce2ead43755a   \n",
       "4     test brand @1612366146827    False  601ac142be37ce2ead43755e   \n",
       "...                         ...      ...                       ...   \n",
       "1162  test brand @1601644365844      NaN  5f77274dbe37ce6b592e90c0   \n",
       "1163        Dippin Dots® Cereal      NaN  5dc1fca91dda2c0ad7da64ae   \n",
       "1164  test brand @1598639215217      NaN  5f494c6e04db711dd8fe87e7   \n",
       "1165          LIPTON TEA Leaves    False  5a021611e4b00efe02b02a57   \n",
       "1166  test brand @1613158231643    False  6026d757be37ce6369301468   \n",
       "\n",
       "                  cpg.$id.$oid cpg.$ref                      brandCode  \n",
       "0     601ac114be37ce2ead437550     Cogs                            NaN  \n",
       "1     5332f5fbe4b03c9a25efd0ba     Cogs                      STARBUCKS  \n",
       "2     601ac142be37ce2ead437559     Cogs  TEST BRANDCODE @1612366146176  \n",
       "3     601ac142be37ce2ead437559     Cogs  TEST BRANDCODE @1612366146051  \n",
       "4     5332fa12e4b03c9a25efd1e7     Cogs  TEST BRANDCODE @1612366146827  \n",
       "...                        ...      ...                            ...  \n",
       "1162  5f77274dbe37ce6b592e90bf     Cogs                            NaN  \n",
       "1163  53e10d6368abd3c7065097cc     Cogs             DIPPIN DOTS CEREAL  \n",
       "1164  5332fa12e4b03c9a25efd1e7     Cogs  TEST BRANDCODE @1598639215217  \n",
       "1165  5332f5f6e4b03c9a25efd0b4     Cogs              LIPTON TEA Leaves  \n",
       "1166  6026d757be37ce6369301467     Cogs  TEST BRANDCODE @1613158231644  \n",
       "\n",
       "[1167 rows x 9 columns]"
      ]
     },
     "execution_count": 121,
     "metadata": {},
     "output_type": "execute_result"
    }
   ],
   "source": [
    "brands_df"
   ]
  },
  {
   "cell_type": "code",
   "execution_count": 122,
   "id": "70d4a1d8",
   "metadata": {},
   "outputs": [
    {
     "data": {
      "text/html": [
       "<div>\n",
       "<style scoped>\n",
       "    .dataframe tbody tr th:only-of-type {\n",
       "        vertical-align: middle;\n",
       "    }\n",
       "\n",
       "    .dataframe tbody tr th {\n",
       "        vertical-align: top;\n",
       "    }\n",
       "\n",
       "    .dataframe thead th {\n",
       "        text-align: right;\n",
       "    }\n",
       "</style>\n",
       "<table border=\"1\" class=\"dataframe\">\n",
       "  <thead>\n",
       "    <tr style=\"text-align: right;\">\n",
       "      <th></th>\n",
       "      <th>bonusPointsEarned</th>\n",
       "      <th>bonusPointsEarnedReason</th>\n",
       "      <th>pointsEarned</th>\n",
       "      <th>purchasedItemCount</th>\n",
       "      <th>rewardsReceiptStatus</th>\n",
       "      <th>totalSpent</th>\n",
       "      <th>user_id</th>\n",
       "      <th>receipt_id</th>\n",
       "      <th>createDate</th>\n",
       "      <th>dateScanned</th>\n",
       "      <th>finishedDate</th>\n",
       "      <th>modifyDate</th>\n",
       "      <th>pointsAwardedDate</th>\n",
       "      <th>purchaseDate</th>\n",
       "    </tr>\n",
       "  </thead>\n",
       "  <tbody>\n",
       "    <tr>\n",
       "      <th>0</th>\n",
       "      <td>500.0</td>\n",
       "      <td>Receipt number 2 completed, bonus point schedu...</td>\n",
       "      <td>500.0</td>\n",
       "      <td>5.0</td>\n",
       "      <td>FINISHED</td>\n",
       "      <td>26.00</td>\n",
       "      <td>5ff1e1eacfcf6c399c274ae6</td>\n",
       "      <td>5ff1e1eb0a720f0523000575</td>\n",
       "      <td>2021-01-03 15:25:31.000</td>\n",
       "      <td>2021-01-03 15:25:31.000</td>\n",
       "      <td>2021-01-03 15:25:31</td>\n",
       "      <td>2021-01-03 15:25:36.000</td>\n",
       "      <td>2021-01-03 15:25:31</td>\n",
       "      <td>2021-01-03 00:00:00</td>\n",
       "    </tr>\n",
       "    <tr>\n",
       "      <th>1</th>\n",
       "      <td>150.0</td>\n",
       "      <td>Receipt number 5 completed, bonus point schedu...</td>\n",
       "      <td>150.0</td>\n",
       "      <td>2.0</td>\n",
       "      <td>FINISHED</td>\n",
       "      <td>11.00</td>\n",
       "      <td>5ff1e194b6a9d73a3a9f1052</td>\n",
       "      <td>5ff1e1bb0a720f052300056b</td>\n",
       "      <td>2021-01-03 15:24:43.000</td>\n",
       "      <td>2021-01-03 15:24:43.000</td>\n",
       "      <td>2021-01-03 15:24:43</td>\n",
       "      <td>2021-01-03 15:24:48.000</td>\n",
       "      <td>2021-01-03 15:24:43</td>\n",
       "      <td>2021-01-02 15:24:43</td>\n",
       "    </tr>\n",
       "    <tr>\n",
       "      <th>2</th>\n",
       "      <td>5.0</td>\n",
       "      <td>All-receipts receipt bonus</td>\n",
       "      <td>5.0</td>\n",
       "      <td>1.0</td>\n",
       "      <td>REJECTED</td>\n",
       "      <td>10.00</td>\n",
       "      <td>5ff1e1f1cfcf6c399c274b0b</td>\n",
       "      <td>5ff1e1f10a720f052300057a</td>\n",
       "      <td>2021-01-03 15:25:37.000</td>\n",
       "      <td>2021-01-03 15:25:37.000</td>\n",
       "      <td>NaT</td>\n",
       "      <td>2021-01-03 15:25:42.000</td>\n",
       "      <td>NaT</td>\n",
       "      <td>2021-01-03 00:00:00</td>\n",
       "    </tr>\n",
       "    <tr>\n",
       "      <th>3</th>\n",
       "      <td>5.0</td>\n",
       "      <td>All-receipts receipt bonus</td>\n",
       "      <td>5.0</td>\n",
       "      <td>4.0</td>\n",
       "      <td>FINISHED</td>\n",
       "      <td>28.00</td>\n",
       "      <td>5ff1e1eacfcf6c399c274ae6</td>\n",
       "      <td>5ff1e1ee0a7214ada100056f</td>\n",
       "      <td>2021-01-03 15:25:34.000</td>\n",
       "      <td>2021-01-03 15:25:34.000</td>\n",
       "      <td>2021-01-03 15:25:34</td>\n",
       "      <td>2021-01-03 15:25:39.000</td>\n",
       "      <td>2021-01-03 15:25:34</td>\n",
       "      <td>2021-01-03 00:00:00</td>\n",
       "    </tr>\n",
       "    <tr>\n",
       "      <th>4</th>\n",
       "      <td>5.0</td>\n",
       "      <td>All-receipts receipt bonus</td>\n",
       "      <td>5.0</td>\n",
       "      <td>2.0</td>\n",
       "      <td>FINISHED</td>\n",
       "      <td>1.00</td>\n",
       "      <td>5ff1e194b6a9d73a3a9f1052</td>\n",
       "      <td>5ff1e1d20a7214ada1000561</td>\n",
       "      <td>2021-01-03 15:25:06.000</td>\n",
       "      <td>2021-01-03 15:25:06.000</td>\n",
       "      <td>2021-01-03 15:25:11</td>\n",
       "      <td>2021-01-03 15:25:11.000</td>\n",
       "      <td>2021-01-03 15:25:06</td>\n",
       "      <td>2021-01-02 15:25:06</td>\n",
       "    </tr>\n",
       "    <tr>\n",
       "      <th>...</th>\n",
       "      <td>...</td>\n",
       "      <td>...</td>\n",
       "      <td>...</td>\n",
       "      <td>...</td>\n",
       "      <td>...</td>\n",
       "      <td>...</td>\n",
       "      <td>...</td>\n",
       "      <td>...</td>\n",
       "      <td>...</td>\n",
       "      <td>...</td>\n",
       "      <td>...</td>\n",
       "      <td>...</td>\n",
       "      <td>...</td>\n",
       "      <td>...</td>\n",
       "    </tr>\n",
       "    <tr>\n",
       "      <th>1114</th>\n",
       "      <td>25.0</td>\n",
       "      <td>COMPLETE_NONPARTNER_RECEIPT</td>\n",
       "      <td>25.0</td>\n",
       "      <td>2.0</td>\n",
       "      <td>REJECTED</td>\n",
       "      <td>34.96</td>\n",
       "      <td>5fc961c3b8cfca11a077dd33</td>\n",
       "      <td>603cc0630a720fde100003e6</td>\n",
       "      <td>2021-03-01 10:22:27.000</td>\n",
       "      <td>2021-03-01 10:22:27.000</td>\n",
       "      <td>NaT</td>\n",
       "      <td>2021-03-01 10:22:28.000</td>\n",
       "      <td>NaT</td>\n",
       "      <td>2020-08-17 00:00:00</td>\n",
       "    </tr>\n",
       "    <tr>\n",
       "      <th>1115</th>\n",
       "      <td>NaN</td>\n",
       "      <td>NaN</td>\n",
       "      <td>NaN</td>\n",
       "      <td>NaN</td>\n",
       "      <td>SUBMITTED</td>\n",
       "      <td>NaN</td>\n",
       "      <td>5fc961c3b8cfca11a077dd33</td>\n",
       "      <td>603d0b710a720fde1000042a</td>\n",
       "      <td>2021-03-01 15:42:41.873</td>\n",
       "      <td>2021-03-01 15:42:41.873</td>\n",
       "      <td>NaT</td>\n",
       "      <td>2021-03-01 15:42:41.873</td>\n",
       "      <td>NaT</td>\n",
       "      <td>NaT</td>\n",
       "    </tr>\n",
       "    <tr>\n",
       "      <th>1116</th>\n",
       "      <td>NaN</td>\n",
       "      <td>NaN</td>\n",
       "      <td>NaN</td>\n",
       "      <td>NaN</td>\n",
       "      <td>SUBMITTED</td>\n",
       "      <td>NaN</td>\n",
       "      <td>5fc961c3b8cfca11a077dd33</td>\n",
       "      <td>603cf5290a720fde10000413</td>\n",
       "      <td>2021-03-01 14:07:37.664</td>\n",
       "      <td>2021-03-01 14:07:37.664</td>\n",
       "      <td>NaT</td>\n",
       "      <td>2021-03-01 14:07:37.664</td>\n",
       "      <td>NaT</td>\n",
       "      <td>NaT</td>\n",
       "    </tr>\n",
       "    <tr>\n",
       "      <th>1117</th>\n",
       "      <td>25.0</td>\n",
       "      <td>COMPLETE_NONPARTNER_RECEIPT</td>\n",
       "      <td>25.0</td>\n",
       "      <td>2.0</td>\n",
       "      <td>REJECTED</td>\n",
       "      <td>34.96</td>\n",
       "      <td>5fc961c3b8cfca11a077dd33</td>\n",
       "      <td>603ce7100a7217c72c000405</td>\n",
       "      <td>2021-03-01 13:07:28.000</td>\n",
       "      <td>2021-03-01 13:07:28.000</td>\n",
       "      <td>NaT</td>\n",
       "      <td>2021-03-01 13:07:29.000</td>\n",
       "      <td>NaT</td>\n",
       "      <td>2020-08-17 00:00:00</td>\n",
       "    </tr>\n",
       "    <tr>\n",
       "      <th>1118</th>\n",
       "      <td>NaN</td>\n",
       "      <td>NaN</td>\n",
       "      <td>NaN</td>\n",
       "      <td>NaN</td>\n",
       "      <td>SUBMITTED</td>\n",
       "      <td>NaN</td>\n",
       "      <td>5fc961c3b8cfca11a077dd33</td>\n",
       "      <td>603c4fea0a7217c72c000389</td>\n",
       "      <td>2021-03-01 02:22:34.962</td>\n",
       "      <td>2021-03-01 02:22:34.962</td>\n",
       "      <td>NaT</td>\n",
       "      <td>2021-03-01 02:22:34.962</td>\n",
       "      <td>NaT</td>\n",
       "      <td>NaT</td>\n",
       "    </tr>\n",
       "  </tbody>\n",
       "</table>\n",
       "<p>1119 rows × 14 columns</p>\n",
       "</div>"
      ],
      "text/plain": [
       "      bonusPointsEarned                            bonusPointsEarnedReason  \\\n",
       "0                 500.0  Receipt number 2 completed, bonus point schedu...   \n",
       "1                 150.0  Receipt number 5 completed, bonus point schedu...   \n",
       "2                   5.0                         All-receipts receipt bonus   \n",
       "3                   5.0                         All-receipts receipt bonus   \n",
       "4                   5.0                         All-receipts receipt bonus   \n",
       "...                 ...                                                ...   \n",
       "1114               25.0                        COMPLETE_NONPARTNER_RECEIPT   \n",
       "1115                NaN                                                NaN   \n",
       "1116                NaN                                                NaN   \n",
       "1117               25.0                        COMPLETE_NONPARTNER_RECEIPT   \n",
       "1118                NaN                                                NaN   \n",
       "\n",
       "      pointsEarned  purchasedItemCount rewardsReceiptStatus  totalSpent  \\\n",
       "0            500.0                 5.0             FINISHED       26.00   \n",
       "1            150.0                 2.0             FINISHED       11.00   \n",
       "2              5.0                 1.0             REJECTED       10.00   \n",
       "3              5.0                 4.0             FINISHED       28.00   \n",
       "4              5.0                 2.0             FINISHED        1.00   \n",
       "...            ...                 ...                  ...         ...   \n",
       "1114          25.0                 2.0             REJECTED       34.96   \n",
       "1115           NaN                 NaN            SUBMITTED         NaN   \n",
       "1116           NaN                 NaN            SUBMITTED         NaN   \n",
       "1117          25.0                 2.0             REJECTED       34.96   \n",
       "1118           NaN                 NaN            SUBMITTED         NaN   \n",
       "\n",
       "                       user_id                receipt_id  \\\n",
       "0     5ff1e1eacfcf6c399c274ae6  5ff1e1eb0a720f0523000575   \n",
       "1     5ff1e194b6a9d73a3a9f1052  5ff1e1bb0a720f052300056b   \n",
       "2     5ff1e1f1cfcf6c399c274b0b  5ff1e1f10a720f052300057a   \n",
       "3     5ff1e1eacfcf6c399c274ae6  5ff1e1ee0a7214ada100056f   \n",
       "4     5ff1e194b6a9d73a3a9f1052  5ff1e1d20a7214ada1000561   \n",
       "...                        ...                       ...   \n",
       "1114  5fc961c3b8cfca11a077dd33  603cc0630a720fde100003e6   \n",
       "1115  5fc961c3b8cfca11a077dd33  603d0b710a720fde1000042a   \n",
       "1116  5fc961c3b8cfca11a077dd33  603cf5290a720fde10000413   \n",
       "1117  5fc961c3b8cfca11a077dd33  603ce7100a7217c72c000405   \n",
       "1118  5fc961c3b8cfca11a077dd33  603c4fea0a7217c72c000389   \n",
       "\n",
       "                  createDate             dateScanned        finishedDate  \\\n",
       "0    2021-01-03 15:25:31.000 2021-01-03 15:25:31.000 2021-01-03 15:25:31   \n",
       "1    2021-01-03 15:24:43.000 2021-01-03 15:24:43.000 2021-01-03 15:24:43   \n",
       "2    2021-01-03 15:25:37.000 2021-01-03 15:25:37.000                 NaT   \n",
       "3    2021-01-03 15:25:34.000 2021-01-03 15:25:34.000 2021-01-03 15:25:34   \n",
       "4    2021-01-03 15:25:06.000 2021-01-03 15:25:06.000 2021-01-03 15:25:11   \n",
       "...                      ...                     ...                 ...   \n",
       "1114 2021-03-01 10:22:27.000 2021-03-01 10:22:27.000                 NaT   \n",
       "1115 2021-03-01 15:42:41.873 2021-03-01 15:42:41.873                 NaT   \n",
       "1116 2021-03-01 14:07:37.664 2021-03-01 14:07:37.664                 NaT   \n",
       "1117 2021-03-01 13:07:28.000 2021-03-01 13:07:28.000                 NaT   \n",
       "1118 2021-03-01 02:22:34.962 2021-03-01 02:22:34.962                 NaT   \n",
       "\n",
       "                  modifyDate   pointsAwardedDate        purchaseDate  \n",
       "0    2021-01-03 15:25:36.000 2021-01-03 15:25:31 2021-01-03 00:00:00  \n",
       "1    2021-01-03 15:24:48.000 2021-01-03 15:24:43 2021-01-02 15:24:43  \n",
       "2    2021-01-03 15:25:42.000                 NaT 2021-01-03 00:00:00  \n",
       "3    2021-01-03 15:25:39.000 2021-01-03 15:25:34 2021-01-03 00:00:00  \n",
       "4    2021-01-03 15:25:11.000 2021-01-03 15:25:06 2021-01-02 15:25:06  \n",
       "...                      ...                 ...                 ...  \n",
       "1114 2021-03-01 10:22:28.000                 NaT 2020-08-17 00:00:00  \n",
       "1115 2021-03-01 15:42:41.873                 NaT                 NaT  \n",
       "1116 2021-03-01 14:07:37.664                 NaT                 NaT  \n",
       "1117 2021-03-01 13:07:29.000                 NaT 2020-08-17 00:00:00  \n",
       "1118 2021-03-01 02:22:34.962                 NaT                 NaT  \n",
       "\n",
       "[1119 rows x 14 columns]"
      ]
     },
     "execution_count": 122,
     "metadata": {},
     "output_type": "execute_result"
    }
   ],
   "source": [
    "receipts_df"
   ]
  },
  {
   "cell_type": "code",
   "execution_count": 123,
   "id": "30d00285",
   "metadata": {},
   "outputs": [
    {
     "data": {
      "text/html": [
       "<div>\n",
       "<style scoped>\n",
       "    .dataframe tbody tr th:only-of-type {\n",
       "        vertical-align: middle;\n",
       "    }\n",
       "\n",
       "    .dataframe tbody tr th {\n",
       "        vertical-align: top;\n",
       "    }\n",
       "\n",
       "    .dataframe thead th {\n",
       "        text-align: right;\n",
       "    }\n",
       "</style>\n",
       "<table border=\"1\" class=\"dataframe\">\n",
       "  <thead>\n",
       "    <tr style=\"text-align: right;\">\n",
       "      <th></th>\n",
       "      <th>barcode</th>\n",
       "      <th>description</th>\n",
       "      <th>finalPrice</th>\n",
       "      <th>itemPrice</th>\n",
       "      <th>needsFetchReview</th>\n",
       "      <th>partnerItemId</th>\n",
       "      <th>preventTargetGapPoints</th>\n",
       "      <th>quantityPurchased</th>\n",
       "      <th>userFlaggedBarcode</th>\n",
       "      <th>userFlaggedNewItem</th>\n",
       "      <th>...</th>\n",
       "      <th>originalMetaBriteQuantityPurchased</th>\n",
       "      <th>pointsEarned</th>\n",
       "      <th>targetPrice</th>\n",
       "      <th>competitiveProduct</th>\n",
       "      <th>originalFinalPrice</th>\n",
       "      <th>originalMetaBriteItemPrice</th>\n",
       "      <th>deleted</th>\n",
       "      <th>priceAfterCoupon</th>\n",
       "      <th>metabriteCampaignId</th>\n",
       "      <th>receipt_id</th>\n",
       "    </tr>\n",
       "  </thead>\n",
       "  <tbody>\n",
       "    <tr>\n",
       "      <th>0</th>\n",
       "      <td>4011</td>\n",
       "      <td>ITEM NOT FOUND</td>\n",
       "      <td>26.00</td>\n",
       "      <td>26.00</td>\n",
       "      <td>False</td>\n",
       "      <td>1.0</td>\n",
       "      <td>True</td>\n",
       "      <td>5.0</td>\n",
       "      <td>4.011000e+03</td>\n",
       "      <td>True</td>\n",
       "      <td>...</td>\n",
       "      <td>NaN</td>\n",
       "      <td>NaN</td>\n",
       "      <td>NaN</td>\n",
       "      <td>NaN</td>\n",
       "      <td>NaN</td>\n",
       "      <td>NaN</td>\n",
       "      <td>NaN</td>\n",
       "      <td>NaN</td>\n",
       "      <td>NaN</td>\n",
       "      <td>5ff1e1eb0a720f0523000575</td>\n",
       "    </tr>\n",
       "    <tr>\n",
       "      <th>1</th>\n",
       "      <td>4011</td>\n",
       "      <td>ITEM NOT FOUND</td>\n",
       "      <td>1.00</td>\n",
       "      <td>1.00</td>\n",
       "      <td>NaN</td>\n",
       "      <td>1.0</td>\n",
       "      <td>NaN</td>\n",
       "      <td>1.0</td>\n",
       "      <td>NaN</td>\n",
       "      <td>NaN</td>\n",
       "      <td>...</td>\n",
       "      <td>NaN</td>\n",
       "      <td>NaN</td>\n",
       "      <td>NaN</td>\n",
       "      <td>NaN</td>\n",
       "      <td>NaN</td>\n",
       "      <td>NaN</td>\n",
       "      <td>NaN</td>\n",
       "      <td>NaN</td>\n",
       "      <td>NaN</td>\n",
       "      <td>5ff1e1bb0a720f052300056b</td>\n",
       "    </tr>\n",
       "    <tr>\n",
       "      <th>2</th>\n",
       "      <td>028400642255</td>\n",
       "      <td>DORITOS TORTILLA CHIP SPICY SWEET CHILI REDUCE...</td>\n",
       "      <td>10.00</td>\n",
       "      <td>10.00</td>\n",
       "      <td>True</td>\n",
       "      <td>2.0</td>\n",
       "      <td>True</td>\n",
       "      <td>1.0</td>\n",
       "      <td>2.840064e+10</td>\n",
       "      <td>True</td>\n",
       "      <td>...</td>\n",
       "      <td>NaN</td>\n",
       "      <td>NaN</td>\n",
       "      <td>NaN</td>\n",
       "      <td>NaN</td>\n",
       "      <td>NaN</td>\n",
       "      <td>NaN</td>\n",
       "      <td>NaN</td>\n",
       "      <td>NaN</td>\n",
       "      <td>NaN</td>\n",
       "      <td>5ff1e1f10a720f052300057a</td>\n",
       "    </tr>\n",
       "    <tr>\n",
       "      <th>3</th>\n",
       "      <td>NaN</td>\n",
       "      <td>NaN</td>\n",
       "      <td>NaN</td>\n",
       "      <td>NaN</td>\n",
       "      <td>False</td>\n",
       "      <td>1.0</td>\n",
       "      <td>True</td>\n",
       "      <td>NaN</td>\n",
       "      <td>4.011000e+03</td>\n",
       "      <td>True</td>\n",
       "      <td>...</td>\n",
       "      <td>NaN</td>\n",
       "      <td>NaN</td>\n",
       "      <td>NaN</td>\n",
       "      <td>NaN</td>\n",
       "      <td>NaN</td>\n",
       "      <td>NaN</td>\n",
       "      <td>NaN</td>\n",
       "      <td>NaN</td>\n",
       "      <td>NaN</td>\n",
       "      <td>5ff1e1ee0a7214ada100056f</td>\n",
       "    </tr>\n",
       "    <tr>\n",
       "      <th>4</th>\n",
       "      <td>4011</td>\n",
       "      <td>ITEM NOT FOUND</td>\n",
       "      <td>28.00</td>\n",
       "      <td>28.00</td>\n",
       "      <td>False</td>\n",
       "      <td>1.0</td>\n",
       "      <td>True</td>\n",
       "      <td>4.0</td>\n",
       "      <td>4.011000e+03</td>\n",
       "      <td>True</td>\n",
       "      <td>...</td>\n",
       "      <td>NaN</td>\n",
       "      <td>NaN</td>\n",
       "      <td>NaN</td>\n",
       "      <td>NaN</td>\n",
       "      <td>NaN</td>\n",
       "      <td>NaN</td>\n",
       "      <td>NaN</td>\n",
       "      <td>NaN</td>\n",
       "      <td>NaN</td>\n",
       "      <td>5ff1e1d20a7214ada1000561</td>\n",
       "    </tr>\n",
       "    <tr>\n",
       "      <th>...</th>\n",
       "      <td>...</td>\n",
       "      <td>...</td>\n",
       "      <td>...</td>\n",
       "      <td>...</td>\n",
       "      <td>...</td>\n",
       "      <td>...</td>\n",
       "      <td>...</td>\n",
       "      <td>...</td>\n",
       "      <td>...</td>\n",
       "      <td>...</td>\n",
       "      <td>...</td>\n",
       "      <td>...</td>\n",
       "      <td>...</td>\n",
       "      <td>...</td>\n",
       "      <td>...</td>\n",
       "      <td>...</td>\n",
       "      <td>...</td>\n",
       "      <td>...</td>\n",
       "      <td>...</td>\n",
       "      <td>...</td>\n",
       "      <td>...</td>\n",
       "    </tr>\n",
       "    <tr>\n",
       "      <th>7376</th>\n",
       "      <td>NaN</td>\n",
       "      <td>NaN</td>\n",
       "      <td>NaN</td>\n",
       "      <td>NaN</td>\n",
       "      <td>NaN</td>\n",
       "      <td>NaN</td>\n",
       "      <td>NaN</td>\n",
       "      <td>NaN</td>\n",
       "      <td>NaN</td>\n",
       "      <td>NaN</td>\n",
       "      <td>...</td>\n",
       "      <td>NaN</td>\n",
       "      <td>NaN</td>\n",
       "      <td>NaN</td>\n",
       "      <td>NaN</td>\n",
       "      <td>NaN</td>\n",
       "      <td>NaN</td>\n",
       "      <td>NaN</td>\n",
       "      <td>NaN</td>\n",
       "      <td>NaN</td>\n",
       "      <td>NaN</td>\n",
       "    </tr>\n",
       "    <tr>\n",
       "      <th>7377</th>\n",
       "      <td>NaN</td>\n",
       "      <td>NaN</td>\n",
       "      <td>NaN</td>\n",
       "      <td>NaN</td>\n",
       "      <td>NaN</td>\n",
       "      <td>NaN</td>\n",
       "      <td>NaN</td>\n",
       "      <td>NaN</td>\n",
       "      <td>NaN</td>\n",
       "      <td>NaN</td>\n",
       "      <td>...</td>\n",
       "      <td>NaN</td>\n",
       "      <td>NaN</td>\n",
       "      <td>NaN</td>\n",
       "      <td>NaN</td>\n",
       "      <td>NaN</td>\n",
       "      <td>NaN</td>\n",
       "      <td>NaN</td>\n",
       "      <td>NaN</td>\n",
       "      <td>NaN</td>\n",
       "      <td>NaN</td>\n",
       "    </tr>\n",
       "    <tr>\n",
       "      <th>7378</th>\n",
       "      <td>B076FJ92M4</td>\n",
       "      <td>mueller austria hypergrind precision electric ...</td>\n",
       "      <td>22.97</td>\n",
       "      <td>22.97</td>\n",
       "      <td>NaN</td>\n",
       "      <td>0.0</td>\n",
       "      <td>NaN</td>\n",
       "      <td>1.0</td>\n",
       "      <td>NaN</td>\n",
       "      <td>NaN</td>\n",
       "      <td>...</td>\n",
       "      <td>NaN</td>\n",
       "      <td>NaN</td>\n",
       "      <td>NaN</td>\n",
       "      <td>NaN</td>\n",
       "      <td>NaN</td>\n",
       "      <td>NaN</td>\n",
       "      <td>NaN</td>\n",
       "      <td>22.97</td>\n",
       "      <td>NaN</td>\n",
       "      <td>NaN</td>\n",
       "    </tr>\n",
       "    <tr>\n",
       "      <th>7379</th>\n",
       "      <td>B07BRRLSVC</td>\n",
       "      <td>thindust summer face mask - sun protection nec...</td>\n",
       "      <td>11.99</td>\n",
       "      <td>11.99</td>\n",
       "      <td>NaN</td>\n",
       "      <td>1.0</td>\n",
       "      <td>NaN</td>\n",
       "      <td>1.0</td>\n",
       "      <td>NaN</td>\n",
       "      <td>NaN</td>\n",
       "      <td>...</td>\n",
       "      <td>NaN</td>\n",
       "      <td>NaN</td>\n",
       "      <td>NaN</td>\n",
       "      <td>NaN</td>\n",
       "      <td>NaN</td>\n",
       "      <td>NaN</td>\n",
       "      <td>NaN</td>\n",
       "      <td>11.99</td>\n",
       "      <td>NaN</td>\n",
       "      <td>NaN</td>\n",
       "    </tr>\n",
       "    <tr>\n",
       "      <th>7380</th>\n",
       "      <td>NaN</td>\n",
       "      <td>NaN</td>\n",
       "      <td>NaN</td>\n",
       "      <td>NaN</td>\n",
       "      <td>NaN</td>\n",
       "      <td>NaN</td>\n",
       "      <td>NaN</td>\n",
       "      <td>NaN</td>\n",
       "      <td>NaN</td>\n",
       "      <td>NaN</td>\n",
       "      <td>...</td>\n",
       "      <td>NaN</td>\n",
       "      <td>NaN</td>\n",
       "      <td>NaN</td>\n",
       "      <td>NaN</td>\n",
       "      <td>NaN</td>\n",
       "      <td>NaN</td>\n",
       "      <td>NaN</td>\n",
       "      <td>NaN</td>\n",
       "      <td>NaN</td>\n",
       "      <td>NaN</td>\n",
       "    </tr>\n",
       "  </tbody>\n",
       "</table>\n",
       "<p>7381 rows × 35 columns</p>\n",
       "</div>"
      ],
      "text/plain": [
       "           barcode                                        description  \\\n",
       "0             4011                                     ITEM NOT FOUND   \n",
       "1             4011                                     ITEM NOT FOUND   \n",
       "2     028400642255  DORITOS TORTILLA CHIP SPICY SWEET CHILI REDUCE...   \n",
       "3              NaN                                                NaN   \n",
       "4             4011                                     ITEM NOT FOUND   \n",
       "...            ...                                                ...   \n",
       "7376           NaN                                                NaN   \n",
       "7377           NaN                                                NaN   \n",
       "7378    B076FJ92M4  mueller austria hypergrind precision electric ...   \n",
       "7379    B07BRRLSVC  thindust summer face mask - sun protection nec...   \n",
       "7380           NaN                                                NaN   \n",
       "\n",
       "      finalPrice  itemPrice needsFetchReview  partnerItemId  \\\n",
       "0          26.00      26.00            False            1.0   \n",
       "1           1.00       1.00              NaN            1.0   \n",
       "2          10.00      10.00             True            2.0   \n",
       "3            NaN        NaN            False            1.0   \n",
       "4          28.00      28.00            False            1.0   \n",
       "...          ...        ...              ...            ...   \n",
       "7376         NaN        NaN              NaN            NaN   \n",
       "7377         NaN        NaN              NaN            NaN   \n",
       "7378       22.97      22.97              NaN            0.0   \n",
       "7379       11.99      11.99              NaN            1.0   \n",
       "7380         NaN        NaN              NaN            NaN   \n",
       "\n",
       "     preventTargetGapPoints  quantityPurchased  userFlaggedBarcode  \\\n",
       "0                      True                5.0        4.011000e+03   \n",
       "1                       NaN                1.0                 NaN   \n",
       "2                      True                1.0        2.840064e+10   \n",
       "3                      True                NaN        4.011000e+03   \n",
       "4                      True                4.0        4.011000e+03   \n",
       "...                     ...                ...                 ...   \n",
       "7376                    NaN                NaN                 NaN   \n",
       "7377                    NaN                NaN                 NaN   \n",
       "7378                    NaN                1.0                 NaN   \n",
       "7379                    NaN                1.0                 NaN   \n",
       "7380                    NaN                NaN                 NaN   \n",
       "\n",
       "     userFlaggedNewItem  ...  originalMetaBriteQuantityPurchased  \\\n",
       "0                  True  ...                                 NaN   \n",
       "1                   NaN  ...                                 NaN   \n",
       "2                  True  ...                                 NaN   \n",
       "3                  True  ...                                 NaN   \n",
       "4                  True  ...                                 NaN   \n",
       "...                 ...  ...                                 ...   \n",
       "7376                NaN  ...                                 NaN   \n",
       "7377                NaN  ...                                 NaN   \n",
       "7378                NaN  ...                                 NaN   \n",
       "7379                NaN  ...                                 NaN   \n",
       "7380                NaN  ...                                 NaN   \n",
       "\n",
       "      pointsEarned targetPrice competitiveProduct originalFinalPrice  \\\n",
       "0              NaN         NaN                NaN                NaN   \n",
       "1              NaN         NaN                NaN                NaN   \n",
       "2              NaN         NaN                NaN                NaN   \n",
       "3              NaN         NaN                NaN                NaN   \n",
       "4              NaN         NaN                NaN                NaN   \n",
       "...            ...         ...                ...                ...   \n",
       "7376           NaN         NaN                NaN                NaN   \n",
       "7377           NaN         NaN                NaN                NaN   \n",
       "7378           NaN         NaN                NaN                NaN   \n",
       "7379           NaN         NaN                NaN                NaN   \n",
       "7380           NaN         NaN                NaN                NaN   \n",
       "\n",
       "     originalMetaBriteItemPrice deleted priceAfterCoupon  metabriteCampaignId  \\\n",
       "0                           NaN     NaN              NaN                  NaN   \n",
       "1                           NaN     NaN              NaN                  NaN   \n",
       "2                           NaN     NaN              NaN                  NaN   \n",
       "3                           NaN     NaN              NaN                  NaN   \n",
       "4                           NaN     NaN              NaN                  NaN   \n",
       "...                         ...     ...              ...                  ...   \n",
       "7376                        NaN     NaN              NaN                  NaN   \n",
       "7377                        NaN     NaN              NaN                  NaN   \n",
       "7378                        NaN     NaN            22.97                  NaN   \n",
       "7379                        NaN     NaN            11.99                  NaN   \n",
       "7380                        NaN     NaN              NaN                  NaN   \n",
       "\n",
       "                    receipt_id  \n",
       "0     5ff1e1eb0a720f0523000575  \n",
       "1     5ff1e1bb0a720f052300056b  \n",
       "2     5ff1e1f10a720f052300057a  \n",
       "3     5ff1e1ee0a7214ada100056f  \n",
       "4     5ff1e1d20a7214ada1000561  \n",
       "...                        ...  \n",
       "7376                       NaN  \n",
       "7377                       NaN  \n",
       "7378                       NaN  \n",
       "7379                       NaN  \n",
       "7380                       NaN  \n",
       "\n",
       "[7381 rows x 35 columns]"
      ]
     },
     "execution_count": 123,
     "metadata": {},
     "output_type": "execute_result"
    }
   ],
   "source": [
    "receipt_items_df"
   ]
  },
  {
   "cell_type": "code",
   "execution_count": 125,
   "id": "70b216a3",
   "metadata": {},
   "outputs": [
    {
     "data": {
      "text/plain": [
       "0       4.011000e+03\n",
       "1                NaN\n",
       "2       2.840064e+10\n",
       "3       4.011000e+03\n",
       "4       4.011000e+03\n",
       "            ...     \n",
       "7376             NaN\n",
       "7377             NaN\n",
       "7378             NaN\n",
       "7379             NaN\n",
       "7380             NaN\n",
       "Name: userFlaggedBarcode, Length: 7381, dtype: float64"
      ]
     },
     "execution_count": 125,
     "metadata": {},
     "output_type": "execute_result"
    }
   ],
   "source": [
    "receipt_items_df['userFlaggedBarcode']"
   ]
  },
  {
   "cell_type": "code",
   "execution_count": 126,
   "id": "da3bd351",
   "metadata": {},
   "outputs": [],
   "source": [
    "receipts_df.to_csv(\"final_receipts.csv\", index = False)\n",
    "receipt_items_df.to_csv(\"final_receipt_items.csv\", index = False)\n",
    "brands_df.to_csv(\"final_brands.csv\", index = False)\n",
    "users_df.to_csv(\"final_users.csv\", index = False)"
   ]
  },
  {
   "cell_type": "code",
   "execution_count": 127,
   "id": "0c95ee99",
   "metadata": {},
   "outputs": [
    {
     "data": {
      "text/plain": [
       "Index(['bonusPointsEarned', 'bonusPointsEarnedReason', 'pointsEarned',\n",
       "       'purchasedItemCount', 'rewardsReceiptStatus', 'totalSpent', 'user_id',\n",
       "       'receipt_id', 'createDate', 'dateScanned', 'finishedDate', 'modifyDate',\n",
       "       'pointsAwardedDate', 'purchaseDate'],\n",
       "      dtype='object')"
      ]
     },
     "execution_count": 127,
     "metadata": {},
     "output_type": "execute_result"
    }
   ],
   "source": [
    "receipts_df.columns"
   ]
  },
  {
   "cell_type": "code",
   "execution_count": 128,
   "id": "c6b6076b",
   "metadata": {},
   "outputs": [
    {
     "data": {
      "text/plain": [
       "Index(['barcode', 'description', 'finalPrice', 'itemPrice', 'needsFetchReview',\n",
       "       'partnerItemId', 'preventTargetGapPoints', 'quantityPurchased',\n",
       "       'userFlaggedBarcode', 'userFlaggedNewItem', 'userFlaggedPrice',\n",
       "       'userFlaggedQuantity', 'needsFetchReviewReason',\n",
       "       'pointsNotAwardedReason', 'pointsPayerId', 'rewardsGroup',\n",
       "       'rewardsProductPartnerId', 'userFlaggedDescription',\n",
       "       'originalMetaBriteBarcode', 'originalMetaBriteDescription', 'brandCode',\n",
       "       'competitorRewardsGroup', 'discountedItemPrice',\n",
       "       'originalReceiptItemText', 'itemNumber',\n",
       "       'originalMetaBriteQuantityPurchased', 'pointsEarned', 'targetPrice',\n",
       "       'competitiveProduct', 'originalFinalPrice',\n",
       "       'originalMetaBriteItemPrice', 'deleted', 'priceAfterCoupon',\n",
       "       'metabriteCampaignId', 'receipt_id'],\n",
       "      dtype='object')"
      ]
     },
     "execution_count": 128,
     "metadata": {},
     "output_type": "execute_result"
    }
   ],
   "source": [
    "receipt_items_df.columns "
   ]
  },
  {
   "cell_type": "code",
   "execution_count": 129,
   "id": "315a3ebd",
   "metadata": {},
   "outputs": [
    {
     "data": {
      "text/plain": [
       "Index(['barcode', 'category', 'categoryCode', 'name', 'topBrand', 'brand_id',\n",
       "       'cpg.$id.$oid', 'cpg.$ref', 'brandCode'],\n",
       "      dtype='object')"
      ]
     },
     "execution_count": 129,
     "metadata": {},
     "output_type": "execute_result"
    }
   ],
   "source": [
    "brands_df.columns"
   ]
  },
  {
   "cell_type": "code",
   "execution_count": 130,
   "id": "a922b605",
   "metadata": {},
   "outputs": [
    {
     "data": {
      "text/plain": [
       "Index(['active', 'role', 'signUpSource', 'state', 'user_id', 'createdDate',\n",
       "       'lastLogin'],\n",
       "      dtype='object')"
      ]
     },
     "execution_count": 130,
     "metadata": {},
     "output_type": "execute_result"
    }
   ],
   "source": [
    "users_df.columns"
   ]
  }
 ],
 "metadata": {
  "kernelspec": {
   "display_name": "Python 3 (ipykernel)",
   "language": "python",
   "name": "python3"
  },
  "language_info": {
   "codemirror_mode": {
    "name": "ipython",
    "version": 3
   },
   "file_extension": ".py",
   "mimetype": "text/x-python",
   "name": "python",
   "nbconvert_exporter": "python",
   "pygments_lexer": "ipython3",
   "version": "3.8.18"
  }
 },
 "nbformat": 4,
 "nbformat_minor": 5
}
